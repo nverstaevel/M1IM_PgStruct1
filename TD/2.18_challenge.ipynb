{
 "cells": [
  {
   "cell_type": "markdown",
   "id": "dc350928-8258-4bb5-a64e-95c4f62641da",
   "metadata": {},
   "source": [
    "# Dessine moi... 🏆"
   ]
  },
  {
   "cell_type": "markdown",
   "id": "931a4aac-5046-4c10-9166-ec5f3f948fd7",
   "metadata": {
    "nbgrader": {
     "grade": false,
     "grade_id": "cell-e8f0192bd90632dc",
     "locked": true,
     "schema_version": 3,
     "solution": false,
     "task": false
    },
    "tags": []
   },
   "source": [
    "### Tâche à réaliser 🎯\n",
    "\n",
    "On souhaite faire imprimer dans la console une forme à l'aide de boucles. \n",
    "\n",
    "Pour chacune des figures suivantes, écrire un algorithme qui permet de générer la figure. On spécifiera à chaque fois le nombre de lignes que l'on souhaite obtenir."
   ]
  },
  {
   "cell_type": "markdown",
   "id": "345605d1-8696-4160-8b5e-394a66aa37ce",
   "metadata": {
    "tags": []
   },
   "source": [
    "## Une demi pyramide:"
   ]
  },
  {
   "cell_type": "code",
   "execution_count": null,
   "id": "6a50f7fc-9a21-407a-a588-7882bd26badf",
   "metadata": {},
   "outputs": [],
   "source": [
    "* \n",
    "* * \n",
    "* * * \n",
    "* * * * \n",
    "* * * * *"
   ]
  },
  {
   "cell_type": "code",
   "execution_count": null,
   "id": "dd898fdd-ee14-4451-9dd7-cd9bef0c56a6",
   "metadata": {},
   "outputs": [],
   "source": []
  },
  {
   "cell_type": "markdown",
   "id": "d5eda412-755f-4db1-af13-c205eae1b8ab",
   "metadata": {},
   "source": [
    "## Une demi pyramide retournée:"
   ]
  },
  {
   "cell_type": "code",
   "execution_count": null,
   "id": "84ec6712-079e-4516-972c-dbe3e3813f08",
   "metadata": {},
   "outputs": [],
   "source": [
    "* * * * *  \n",
    "* * * *  \n",
    "* * *  \n",
    "* *  \n",
    "*"
   ]
  },
  {
   "cell_type": "code",
   "execution_count": null,
   "id": "731f81d5-add5-4031-9500-8ffba1cc7a88",
   "metadata": {},
   "outputs": [],
   "source": []
  },
  {
   "cell_type": "markdown",
   "id": "5c2e7d6c",
   "metadata": {},
   "source": [
    "## Une double pyramide : "
   ]
  },
  {
   "cell_type": "code",
   "execution_count": null,
   "id": "89111693",
   "metadata": {},
   "outputs": [],
   "source": [
    "*  \n",
    "* *  \n",
    "* * *  \n",
    "* * * *  \n",
    "* * * * *  \n",
    "* * * * * *  \n",
    "* * * * * *  \n",
    "* * * * *  \n",
    "* * * *  \n",
    "* * *  \n",
    "* *  \n",
    "*  "
   ]
  },
  {
   "cell_type": "code",
   "execution_count": null,
   "id": "a82ae2e5",
   "metadata": {},
   "outputs": [],
   "source": []
  },
  {
   "cell_type": "markdown",
   "id": "6cee0ba9",
   "metadata": {},
   "source": [
    "## Une demi pyramide inversée:"
   ]
  },
  {
   "cell_type": "code",
   "execution_count": null,
   "id": "bfa7c334",
   "metadata": {},
   "outputs": [],
   "source": [
    "        * \n",
    "      * * \n",
    "    * * * \n",
    "  * * * * \n",
    "* * * * * "
   ]
  },
  {
   "cell_type": "code",
   "execution_count": null,
   "id": "f6ce9ebd",
   "metadata": {},
   "outputs": [],
   "source": []
  },
  {
   "cell_type": "markdown",
   "id": "bdf77d6e-64c6-43cb-8230-423b59faa99b",
   "metadata": {},
   "source": [
    "## Un triangle equilatéral :"
   ]
  },
  {
   "cell_type": "code",
   "execution_count": null,
   "id": "a4415966-0ad0-47e2-beae-93e05d003054",
   "metadata": {},
   "outputs": [],
   "source": [
    "            *   \n",
    "           * *   \n",
    "          * * *   \n",
    "         * * * *   \n",
    "        * * * * *   \n",
    "       * * * * * *   \n",
    "      * * * * * * *   "
   ]
  },
  {
   "cell_type": "code",
   "execution_count": null,
   "id": "4c9f0627-853a-48b1-9284-189d591e53f8",
   "metadata": {},
   "outputs": [],
   "source": []
  },
  {
   "cell_type": "markdown",
   "id": "5efc755e-ad94-4b2e-852d-15a91e9a0282",
   "metadata": {},
   "source": [
    "## Une demi-étoile (gauche)"
   ]
  },
  {
   "cell_type": "code",
   "execution_count": null,
   "id": "a5566742-9305-4f0d-97e7-5f16bb021013",
   "metadata": {},
   "outputs": [],
   "source": [
    "        * \n",
    "      * * \n",
    "    * * * \n",
    "  * * * * \n",
    "* * * * * \n",
    "  * * * * \n",
    "    * * * \n",
    "      * * \n",
    "        * "
   ]
  },
  {
   "cell_type": "code",
   "execution_count": null,
   "id": "6867cd2d-2969-473e-82dd-de525dbcea63",
   "metadata": {},
   "outputs": [],
   "source": []
  },
  {
   "cell_type": "markdown",
   "id": "6a9f998b-5d78-4bcb-8682-24b73121e439",
   "metadata": {},
   "source": [
    "## Un sablier"
   ]
  },
  {
   "cell_type": "code",
   "execution_count": null,
   "id": "a3867572-c165-493e-af8c-c4ed9ea2c7f2",
   "metadata": {},
   "outputs": [],
   "source": [
    "* * * * * \n",
    " * * * * \n",
    "  * * * \n",
    "   * * \n",
    "    * \n",
    "    * \n",
    "   * * \n",
    "  * * * \n",
    " * * * * \n",
    "* * * * * "
   ]
  },
  {
   "cell_type": "code",
   "execution_count": null,
   "id": "e1985c9a-07ae-4e47-9219-90fe6d547ae4",
   "metadata": {},
   "outputs": [],
   "source": []
  },
  {
   "cell_type": "markdown",
   "id": "684a4814-7cea-47f2-8fe3-533d96bfbd16",
   "metadata": {},
   "source": [
    "## Un diamant: "
   ]
  },
  {
   "cell_type": "code",
   "execution_count": null,
   "id": "055dee7c-be87-4f74-8c30-c805bfa82770",
   "metadata": {},
   "outputs": [],
   "source": [
    "        * \n",
    "       * * \n",
    "      * * * \n",
    "     * * * * \n",
    "    * * * * * \n",
    "   * * * * * * \n",
    "    * * * * * \n",
    "     * * * * \n",
    "      * * * \n",
    "       * * \n",
    "        * "
   ]
  },
  {
   "cell_type": "code",
   "execution_count": null,
   "id": "c1c0c84e-1242-4b37-8918-032542142aee",
   "metadata": {},
   "outputs": [],
   "source": []
  },
  {
   "cell_type": "markdown",
   "id": "87bd2796-7775-46de-ad61-79f232c16d8f",
   "metadata": {},
   "source": [
    "## La tri-force: \n",
    "En paramètres, la taille `c` d'un côté du triangle et le nombre `e` d'étages de la pyramide devraient être utiles. \n",
    "\n",
    "(ici, on a `c=3` et `e=2`)"
   ]
  },
  {
   "cell_type": "code",
   "execution_count": null,
   "id": "c8a68d51-1488-4039-a09c-d13287293dc7",
   "metadata": {},
   "outputs": [],
   "source": [
    "     /\\     \n",
    "    /  \\    \n",
    "   /____\\   \n",
    "  /\\    /\\  \n",
    " /  \\  /  \\ \n",
    "/____\\/____\\"
   ]
  },
  {
   "cell_type": "code",
   "execution_count": null,
   "id": "34660e66-be27-4b60-96df-2c1a859c990b",
   "metadata": {},
   "outputs": [],
   "source": []
  },
  {
   "cell_type": "markdown",
   "id": "272402c5-a146-42ca-929d-b83ebfd3b597",
   "metadata": {
    "tags": []
   },
   "source": [
    "## [Home](0_Index.ipynb)🏠\n",
    "![licence.png](pics/licence.png) Licence Creative Commons Attribution - Partage dans les Mêmes Conditions 4.0 International"
   ]
  }
 ],
 "metadata": {
  "kernelspec": {
   "display_name": "Python 3",
   "language": "python",
   "name": "python3"
  },
  "language_info": {
   "codemirror_mode": {
    "name": "ipython",
    "version": 3
   },
   "file_extension": ".py",
   "mimetype": "text/x-python",
   "name": "python",
   "nbconvert_exporter": "python",
   "pygments_lexer": "ipython3",
   "version": "3.10.12"
  }
 },
 "nbformat": 4,
 "nbformat_minor": 5
}
