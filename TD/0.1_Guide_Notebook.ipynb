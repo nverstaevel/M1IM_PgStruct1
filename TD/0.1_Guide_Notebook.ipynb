{
 "cells": [
  {
   "cell_type": "markdown",
   "id": "baffe212-4bb3-495e-a4c0-5d142046acf4",
   "metadata": {},
   "source": [
    "# Bienvenue dans Jupyter Notebook"
   ]
  },
  {
   "cell_type": "markdown",
   "id": "22785496-b105-4e06-aaf4-9a1ba301e7e4",
   "metadata": {},
   "source": [
    "Un notebook Jupyter se compose d'un ensemble de **cellules** individuelles pouvant contenir du **code** Python, du texte (Markdown, HTML et Latex), ou des graphiques."
   ]
  },
  {
   "cell_type": "markdown",
   "id": "7da8c2cc-aea1-4ba8-8176-c8c3d13ae669",
   "metadata": {
    "tags": []
   },
   "source": [
    "## Les cellules de code"
   ]
  },
  {
   "cell_type": "code",
   "execution_count": 1,
   "id": "e023922d-c9eb-4ab1-a51c-47faffbc572e",
   "metadata": {},
   "outputs": [],
   "source": [
    "# Ceci est une cellule de code"
   ]
  },
  {
   "cell_type": "markdown",
   "id": "92f709f2-ca91-4625-8983-5bccbffaffd9",
   "metadata": {},
   "source": [
    "Ci-dessous, vous avez un exemple de cellule de code. Celle ci contient un commentaire. Le contenue d'une cellule de code peut être **modifiée** en cliquant sur la celulle. On entre alors dans un mode éditeur de texte. L'éditeur de texte possède une coloration syntaxique, c'est à dire que les mots clés du langage apparaissent d'une certaine couleur pour faciliter sa lecture. Essayons avec le bloc de code ci-dessous de réaliser une addition. Pour executer le code ci-dessous on peut soit selectionner la celulle et apppuyer sur les touches **Maj+Enter** ou **Ctrl+Enter**, soit cliquer sur le bouton lecture de la barre des taches. Essayez pour voir:"
   ]
  },
  {
   "cell_type": "code",
   "execution_count": 2,
   "id": "f01a8b18-c226-463a-8779-cd0dfb34fc37",
   "metadata": {},
   "outputs": [
    {
     "data": {
      "text/plain": [
       "20"
      ]
     },
     "execution_count": 2,
     "metadata": {},
     "output_type": "execute_result"
    }
   ],
   "source": [
    "12 + 8"
   ]
  },
  {
   "cell_type": "markdown",
   "id": "9529fdda-1a57-4f59-86cb-ef4aa93ba5cb",
   "metadata": {},
   "source": [
    "Après l'exécution, une seconde ligne apparait sous notre code. Il s'agit du résultat de l'execution de notre code, plus communément appelé la sortie (*Out*). Ici, il nous affiche le résultat de l'opération 12+8. Un code peut ne rien afficher, afficher un résultat sous différentes formes (texte, graphique, vidéo), ou afficher un message d'erreur. Essayons encore d'exécuter la celulle suivante."
   ]
  },
  {
   "cell_type": "code",
   "execution_count": 3,
   "id": "6fc79d5d-6494-42b8-8677-4a9412dd6f57",
   "metadata": {},
   "outputs": [
    {
     "name": "stdout",
     "output_type": "stream",
     "text": [
      "Hello World!\n"
     ]
    }
   ],
   "source": [
    "print(\"Hello World!\")"
   ]
  },
  {
   "cell_type": "markdown",
   "id": "a0f955fb-f281-4ae4-bda6-66924285ba64",
   "metadata": {},
   "source": [
    "Ici, l'instruction *print* nous sert à afficher un message dans la sortie. On peut à tout modifier le code contenu dans une celulle et la réexecuter. Essayez d'afficher le message \"Bonjour le monde\" à la place de \"Hello World\"."
   ]
  },
  {
   "cell_type": "markdown",
   "id": "cd2c4676-2c44-46d3-8c04-7ff1dddea96e",
   "metadata": {},
   "source": [
    "Dans un notebook, vous pouvez ajouter autant de cellule de code que vous voulez. Pour ajouter une cellule, sélectionnez d'abord l'emplacement où vous souhaitez ajouter une cellule en cliquant à gauche de celle ci. Vous pouvez alors utiliser la commande \"+\" dans la barre d'outil ou utiliser le racourcis clavier *A* pour créer une cellule en dessous de la cellule courante, et *B* pour créer une cellule au dessus. Essayez de créer votre prorpre cellule de code et d'y ajouter l'instruction print('Youpi !')"
   ]
  },
  {
   "cell_type": "markdown",
   "id": "fbbbc595-92ea-4a8b-b0dd-d51da8f6e9f4",
   "metadata": {},
   "source": [
    "On peut aussi supprimer une cellule, par le menu contextuel (clique droit), le menu *Edit > Delete Cell* ou par le racourcis *D D*. Il est aussi possible de couper/coller les cellules pour les réorganiser."
   ]
  },
  {
   "cell_type": "markdown",
   "id": "c25041fc-b39d-42fe-95f4-9f69f796f36c",
   "metadata": {},
   "source": [
    "De la même manière, il est possible de diviser (Split) une cellule, ou de les fusionner (Merge)."
   ]
  },
  {
   "cell_type": "markdown",
   "id": "580f3d79-2390-41f8-b016-7685d3bc83e8",
   "metadata": {},
   "source": [
    "## Les cellules de texte\n",
    "\n",
    "Il existe deux types de cellules de texte selon le choix effectué dans le menu deroulant: \n",
    "\n",
    "* **Raw(texte)**: cellule ne contenant que du texte sans aucun formatage. \n",
    "* **Markdown**: cellule dans lesquelles le texte est soumis à un formatage selon la syntaxe Markdown et les éventuelles balises HTML ou Latex.\n",
    "\n",
    "Vous pouvez trouver plus d'information sur le format Markdown sur la [documentation de Jupyter Notebook](https://jupyter-notebook.readthedocs.io/en/stable/examples/Notebook/Working%20With%20Markdown%20Cells.html) ou  sur le site de la [spécification Markdwon](https://daringfireball.net/projects/markdown/)"
   ]
  },
  {
   "cell_type": "markdown",
   "id": "4e69fb52-17c3-46e4-9b53-0fd0cb220186",
   "metadata": {},
   "source": [
    "## Sauvegarder, partager ou imprimer un notebook\n",
    "\n",
    "Lorsque vous travaillez avec un notebook, vous pouvez à tout moment enregistrer votre travail *File>Save notebook* ou le racourcis *Ctrl+S*. Bien que Jupyter Notebook réaliser des sauvegarde à intervalles réguliers (Checkpoint), ils vous est recommandé de prendre l'habitude de sauvegarder votre travail fréquemment. Vous pouvez à tout moment revenir dans un état enregistrer *File>Revert to Checkpoint*.\n",
    "\n",
    "Pour partager votre notebook, vous pouvez envoyer le fichier .ipynb qui contient votre code et les cellules de texte. Vous pouvez aussi exporter votre Notebook dans différents formats par le menu *File> Save and Export notebook as*. Vous pouvez par exemple exporter votre notebook en PDF. "
   ]
  },
  {
   "cell_type": "markdown",
   "id": "88b7e68c-d9f9-406f-a399-3683111e4f78",
   "metadata": {
    "tags": []
   },
   "source": [
    "## Pour terminer"
   ]
  },
  {
   "cell_type": "markdown",
   "id": "21eda1b8-9802-45da-8034-08b826fcd5b2",
   "metadata": {},
   "source": [
    "* En mode édition, bordures vertes, lorsque le curseur est en début de ligne ou lorsque vous avez sélectionné du texte, l'appui sur la touche *Tab* (respectivement *Shift-TAB*) indente (respectivement désindente) les lignes correspondantes.\n",
    "*La touche *ESC* passe en mode commande, les bordures sont alors bleues. Notez bien que dans ce mode, certaines touches du clavier sont associées à des actions sur le notebook. Tenter de saisir du texte dans ce mode peut donc produire des effets inattendus.\n",
    "*Le bouton [open the command palette] affiche une fenêtre qui liste l'ensemble des commandes.\n",
    "*Pour créer vos propres notebooks, utilisez le bouton [New Notebook] dans la première fenêtre \"jupyter Dashboard\", ou faites File>New depuis n'importe quelle fenêtre de notebook. N'oubliez ensuite pas de donner un nom de fichier à votre notebook en cliquant dans le champ \"Untitled\" au haut de la fenêtre du nouveau notebook\n",
    "*Pour effacer tous les sorties d'un notebook, vous pouvez faire Cell>All Output>Clear\n",
    "*Si jupyter Notebook semble bloqué, c'est surement qu'il tourne indéfiniment en raison par exemple d'une boucle mal contrôlée (consommant 100% de CPU d'1 core de votre machine). Vous deviez voir le message \"Kernel busy\" au haut de l'écran. Pour l'interrompre, cliquez sur le bouton stop (ou menu Kernel>Interrupt). Si ça ne fonctionne vraiment pas, il faudra se résoudre à tuer le serveur web avec *ctrl-C*\n",
    "*Sous Help>Keyboard Shortcuts vous trouverez la liste des nombreux raccourcis clavier améliorant grandement l'efficacité d'utilisation de jupyter Notebook !\n",
    "*Sous Help>Notebook Help vous accéderez à la documentation complète de jupiter Notebook."
   ]
  },
  {
   "cell_type": "markdown",
   "id": "ab6c83d1-2855-4674-95f4-9f2d8b08941a",
   "metadata": {},
   "source": [
    "Ce document adapté d'un travail de Jean-Daniel.Bonjour@epfl.ch est mis à disposition selon les termes de la Licence Creative Commons Attribution - Partage dans les Mêmes Conditions 4.0 International"
   ]
  },
  {
   "cell_type": "markdown",
   "id": "dfe7a028-0a63-4248-aac9-1e02915dbffd",
   "metadata": {},
   "source": [
    "![licence.png](pics/licence.png) Licence Creative Commons Attribution - Partage dans les Mêmes Conditions 4.0 International"
   ]
  }
 ],
 "metadata": {
  "kernelspec": {
   "display_name": "Python 3",
   "language": "python",
   "name": "python3"
  },
  "language_info": {
   "codemirror_mode": {
    "name": "ipython",
    "version": 3
   },
   "file_extension": ".py",
   "mimetype": "text/x-python",
   "name": "python",
   "nbconvert_exporter": "python",
   "pygments_lexer": "ipython3",
   "version": "3.10.12"
  }
 },
 "nbformat": 4,
 "nbformat_minor": 5
}
