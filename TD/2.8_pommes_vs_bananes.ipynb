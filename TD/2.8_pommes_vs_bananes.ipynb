{
 "cells": [
  {
   "cell_type": "markdown",
   "id": "dc350928-8258-4bb5-a64e-95c4f62641da",
   "metadata": {},
   "source": [
    "#  Pommes VS Bananes : Problème DMOJ ccc19j1. ⭐"
   ]
  },
  {
   "cell_type": "markdown",
   "id": "931a4aac-5046-4c10-9166-ec5f3f948fd7",
   "metadata": {
    "nbgrader": {
     "grade": false,
     "grade_id": "cell-e8f0192bd90632dc",
     "locked": true,
     "schema_version": 3,
     "solution": false,
     "task": false
    },
    "tags": []
   },
   "source": [
    "### Tâche à réaliser 🎯\n",
    "\n",
    "Au basket-ball, trois actions permettent de marquer des points : un tir à trois points, un tir à deux points et un lancer franc à un point.\n",
    "Vous venez de regarder un match de basket-ball entre les Pommes et les Bananes et vous avez noté le nombre de tirs à trois points, à deux points et à un point réussis par chaque équipe. Indiquez si le match a été gagné par les Pommes, par les Bananes ou par un match nul.\n",
    "    \n",
    "### Entrée 🔠\n",
    "\n",
    "Il y a six lignes d'entrée. Les trois premières donnent le score pour les Pommes, et les trois dernières donnent le score pour les Bananes.\n",
    "* La première ligne indique le nombre de tirs à trois points réussis par les Pommes.\n",
    "* La deuxième ligne donne le nombre de tirs à deux points réussis pour les pommes.\n",
    "* La troisième ligne donne le nombre de lancers francs à un point réussis par les Pommes.\n",
    "* La quatrième ligne indique le nombre de tirs à trois points réussis par les Bananes.\n",
    "* La cinquième ligne indique le nombre de tirs à deux points réussis par les Bananes.\n",
    "* La sixième ligne indique le nombre de lancers francs à un point réussis par les Bananes.\n",
    "\n",
    "Chaque nombre est un entier entre 0 et 100.\n",
    "    \n",
    "### Sortie 🖥️\n",
    "Une phrase indiquant quelle équipe a remporté le match."
   ]
  },
  {
   "cell_type": "markdown",
   "id": "345605d1-8696-4160-8b5e-394a66aa37ce",
   "metadata": {},
   "source": [
    "## Votre solution : "
   ]
  },
  {
   "cell_type": "code",
   "execution_count": null,
   "id": "6a50f7fc-9a21-407a-a588-7882bd26badf",
   "metadata": {},
   "outputs": [],
   "source": []
  },
  {
   "cell_type": "markdown",
   "id": "029e705c",
   "metadata": {},
   "source": [
    "## Votre solution utilisant un fichier plutôt qu'une saisie clavier: ⭐⭐ "
   ]
  },
  {
   "cell_type": "code",
   "execution_count": null,
   "id": "225087bc",
   "metadata": {},
   "outputs": [],
   "source": []
  },
  {
   "cell_type": "markdown",
   "id": "272402c5-a146-42ca-929d-b83ebfd3b597",
   "metadata": {
    "tags": []
   },
   "source": [
    "## [Home](0_Index.ipynb)🏠\n",
    "![licence.png](pics/licence.png) Licence Creative Commons Attribution - Partage dans les Mêmes Conditions 4.0 International"
   ]
  }
 ],
 "metadata": {
  "kernelspec": {
   "display_name": "Python 3",
   "language": "python",
   "name": "python3"
  },
  "language_info": {
   "codemirror_mode": {
    "name": "ipython",
    "version": 3
   },
   "file_extension": ".py",
   "mimetype": "text/x-python",
   "name": "python",
   "nbconvert_exporter": "python",
   "pygments_lexer": "ipython3",
   "version": "3.10.12"
  }
 },
 "nbformat": 4,
 "nbformat_minor": 5
}
