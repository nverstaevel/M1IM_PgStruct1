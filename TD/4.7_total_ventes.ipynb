{
 "cells": [
  {
   "cell_type": "markdown",
   "metadata": {},
   "source": [
    "# Total des ventes ⭐"
   ]
  },
  {
   "cell_type": "markdown",
   "metadata": {
    "nbgrader": {
     "grade": false,
     "grade_id": "cell-e8f0192bd90632dc",
     "locked": true,
     "schema_version": 3,
     "solution": false,
     "task": false
    },
    "tags": []
   },
   "source": [
    "## Tâche à réaliser 🎯\n",
    "\n",
    "Soit une liste de vendeurs contenant leurs noms, prénoms et la liste de leurs ventes du mois.  \n",
    "Exemple:  \n",
    "Ventes =  [\n",
    "{\"nom\":'GARGA' , \"prenom\":'Amel' ,\"id\": \"20231343\" ,\"montants\": [120 , 80 , 110 , 170 , 90 ]},  \n",
    "{\"nom\":'POLO' , \"prenom\": 'Marcello' , \"id\":\"20342241\" , \"montants\": [90 , 110 , 190 , 30 ] },  \n",
    "{\"nom\":'AMANGEAI' , \"prenom\": 'Hildegard' , \"id\": \"20244229\" , \"montants\": [150 , 110 , 70 , 140 , 120 ] },  \n",
    "{\"nom\":'DENT' , \"prenom\":'Arthur' , \"id\":\"42424242\" , \"montants\": [80 , 40 , 90 , 40 , 100 , 50 ] },  \n",
    "{\"nom\":'ALEZE' , \"prenom\":'Blaise' , \"id\":\"30012024\" , \"montants\": [170 , 150 , 200 , 140 , 180 , 160 , 200 ] }  \n",
    "]  \n",
    "\n",
    "Ecrire une fonction total_vendeur qui prend en paramètre une liste de vendeurs et l'identifiant d'un vendeur et renvoie le total de ses ventes.\n",
    "    \n",
    "### Entrée 🔠\n",
    "Une liste de vendeurs  \n",
    "Un identifiant de type texte\n",
    "    \n",
    "### Sortie 🖥️\n",
    "Un réél correspondant au total des ventes\n",
    "    \n",
    "### Exemple 👀\n",
    "\n",
    "Entrée: Ventes et \"20244229\"\n",
    "\n",
    "> Sortie: 590"
   ]
  },
  {
   "cell_type": "markdown",
   "metadata": {},
   "source": [
    "### Votre solution : "
   ]
  },
  {
   "cell_type": "code",
   "execution_count": null,
   "metadata": {},
   "outputs": [],
   "source": []
  },
  {
   "cell_type": "markdown",
   "metadata": {
    "nbgrader": {
     "grade": false,
     "grade_id": "cell-e8f0192bd90632dc",
     "locked": true,
     "schema_version": 3,
     "solution": false,
     "task": false
    },
    "tags": []
   },
   "source": [
    "## Tâche à réaliser 🎯\n",
    "\n",
    "Soit la liste de vendeurs définie maintenant de la façon suivante.  \n",
    "Exemple:  \n",
    "Ventes = {  \n",
    "          \"20231343\": {\"nom\":'GARGA' , \"prenom\":'Amel', \"montants\": [120 , 80 , 110 , 170 , 90 ]},  \n",
    "          \"20342241\": {\"nom\":'POLO' , \"prenom\": 'Marcello' , \"montants\": [90 , 110 , 190 , 30 ] },  \n",
    "          \"20244229\": {\"nom\":'AMANGEAI' , \"prenom\": 'Hildegard', \"montants\": [150 , 110 , 70 , 140 , 120 ] },  \n",
    "          \"42424242\": {\"nom\":'DENT' , \"prenom\":'Arthur', \"montants\": [80 , 40 , 90 , 40 , 100 , 50 ] },  \n",
    "          \"30012024\": {\"nom\":'ALEZE' , \"prenom\":'Blaise' ,  \"montants\": [170 , 150 , 200 , 140 , 180 , 160 , 200 ] }  \n",
    "         }\n",
    "\n",
    "Ecrire une fonction total_vendeur2 avec cette nouvelle structure. \n"
   ]
  },
  {
   "cell_type": "markdown",
   "metadata": {},
   "source": [
    "### Votre solution : "
   ]
  },
  {
   "cell_type": "code",
   "execution_count": null,
   "metadata": {},
   "outputs": [],
   "source": []
  },
  {
   "cell_type": "markdown",
   "metadata": {
    "nbgrader": {
     "grade": false,
     "grade_id": "cell-e8f0192bd90632dc",
     "locked": true,
     "schema_version": 3,
     "solution": false,
     "task": false
    },
    "tags": []
   },
   "source": [
    "## Tâche à réaliser 🎯\n",
    "\n",
    "Ecrire un programme qui affiche les nom et prénom du meilleur vendeur du mois.\n",
    "    \n",
    "### Entrée 🔠\n",
    "\n",
    "Une liste de vendeurs\n",
    "    \n",
    "### Sortie 🖥️\n",
    "Affichage des informations sur le meilleur vendeur\n",
    "    \n",
    "### Exemple 👀\n",
    "\n",
    "Entrée: Ventes\n",
    "\n",
    "> Sortie: Bravo au meilleur vendeur : Blaise ALEZE !\n"
   ]
  },
  {
   "cell_type": "markdown",
   "metadata": {},
   "source": [
    "### Votre solution : "
   ]
  },
  {
   "cell_type": "code",
   "execution_count": null,
   "metadata": {},
   "outputs": [],
   "source": []
  },
  {
   "cell_type": "markdown",
   "metadata": {
    "tags": []
   },
   "source": [
    "## [Home](0_Index.ipynb)🏠\n",
    "![licence.png](pics/licence.png) Licence Creative Commons Attribution - Partage dans les Mêmes Conditions 4.0 International"
   ]
  }
 ],
 "metadata": {
  "kernelspec": {
   "display_name": "Python 3",
   "language": "python",
   "name": "python3"
  },
  "language_info": {
   "codemirror_mode": {
    "name": "ipython",
    "version": 3
   },
   "file_extension": ".py",
   "mimetype": "text/x-python",
   "name": "python",
   "nbconvert_exporter": "python",
   "pygments_lexer": "ipython3",
   "version": "3.8.5"
  }
 },
 "nbformat": 4,
 "nbformat_minor": 5
}
