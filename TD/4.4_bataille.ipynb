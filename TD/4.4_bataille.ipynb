{
 "cells": [
  {
   "cell_type": "markdown",
   "id": "dc350928-8258-4bb5-a64e-95c4f62641da",
   "metadata": {
    "tags": []
   },
   "source": [
    "# Bataille ⭐⭐"
   ]
  },
  {
   "cell_type": "markdown",
   "id": "931a4aac-5046-4c10-9166-ec5f3f948fd7",
   "metadata": {
    "nbgrader": {
     "grade": false,
     "grade_id": "cell-e8f0192bd90632dc",
     "locked": true,
     "schema_version": 3,
     "solution": false,
     "task": false
    },
    "tags": []
   },
   "source": [
    "### Tâche à réaliser 🎯\n",
    "Dans un jeu de 32 cartes, on a la couleur de la carte (pique, trèfle, carreau, cœur) et sa valeur (7, 8, 9, 10, valet, dame, roi, as). \n",
    "\n",
    "Ecrire une fonction `F_carteAuHasard` qui renvoie un tuple composé d'une valeur et d'une couleur de carte tirés au hasard.\n",
    "### Entrée 🔠\n",
    "Aucune\n",
    "    \n",
    "### Sortie 🖥️\n",
    "Un tuple composé d'une valeur et d'une couleur\n",
    "    \n",
    "### Exemples 👀\n",
    "\n",
    "Appel: `F_carteAuHasard()`\n",
    "\n",
    "> Sortie : `('7', 'carreau')`  Valeurs variables car tirage aléatoire"
   ]
  },
  {
   "cell_type": "markdown",
   "id": "345605d1-8696-4160-8b5e-394a66aa37ce",
   "metadata": {},
   "source": [
    "## Votre solution : "
   ]
  },
  {
   "cell_type": "code",
   "execution_count": null,
   "id": "6a50f7fc-9a21-407a-a588-7882bd26badf",
   "metadata": {},
   "outputs": [],
   "source": []
  },
  {
   "cell_type": "markdown",
   "id": "f7cf1d1b-91e6-49c4-b9b3-f872341f1268",
   "metadata": {
    "nbgrader": {
     "grade": false,
     "grade_id": "cell-e8f0192bd90632dc",
     "locked": true,
     "schema_version": 3,
     "solution": false,
     "task": false
    },
    "tags": []
   },
   "source": [
    "### Tâche à réaliser 🎯\n",
    "\n",
    "Ecrire la fonction `F_bataille` qui compare deux cartes passées en paramètres.\n",
    "  \n",
    "### Entrée 🔠\n",
    "En paramètre : 2 tuples (valeur, couleur) correspondant à deux cartes\n",
    "    \n",
    "### Sortie 🖥️\n",
    "1 si la meilleure carte est la première, 2 si c'est la deuxième, 0 s'il y a égalité\n",
    "    \n",
    "### Exemples 👀\n",
    "\n",
    "Appel: `F_bataille((\"roi\",\"pique\"),(\"dame\",\"coeur\")) `\n",
    "\n",
    "> Sortie : `1`\n",
    "\n",
    "Appel: `F_bataille((\"valet\",\"pique\"),(\"dame\",\"coeur\")) `\n",
    "\n",
    "> Sortie : `2`\n",
    "\n",
    "Appel: `F_bataille((\"roi\",\"pique\"),(\"roi\",\"coeur\")) `\n",
    "\n",
    "> Sortie : `0`"
   ]
  },
  {
   "cell_type": "code",
   "execution_count": null,
   "id": "b236973e-c016-4f07-8a8b-9084501db569",
   "metadata": {},
   "outputs": [],
   "source": []
  },
  {
   "cell_type": "markdown",
   "id": "790e7052-6bcf-4bb5-b5ee-2ac2326d2259",
   "metadata": {
    "nbgrader": {
     "grade": false,
     "grade_id": "cell-e8f0192bd90632dc",
     "locked": true,
     "schema_version": 3,
     "solution": false,
     "task": false
    },
    "tags": []
   },
   "source": [
    "### Tâche à réaliser 🎯\n",
    "\n",
    "En utilisant les deux fonctions précédentes, écrire un programme qui :\n",
    "- lance le tirage de 2 cartes (carte1 et carte2) et les affiche\n",
    "- lance une bataille entre ces deux cartes\n",
    "- affiche un des messages suivant selon le résultat de la bataille :\n",
    "   - `Gagné` si la carte1 est plus forte que carte2 \n",
    "   - `Rejouez` si carte1 et carte2 ont la même valeur\n",
    "   - `Perdu` si la carte2 est plus forte que la carte1\n",
    "  \n",
    "### Entrée 🔠\n",
    "Aucune\n",
    "    \n",
    "### Sortie 🖥️\n",
    "Un des messages précédents.\n",
    "    \n",
    "### Exemples 👀\n",
    "Lancer plusieurs fois votre programme pour vérifier que les 3 cas sont corrects."
   ]
  },
  {
   "cell_type": "code",
   "execution_count": null,
   "id": "31c558ca-2bc6-4a4e-9467-2ff8085cad3b",
   "metadata": {},
   "outputs": [],
   "source": []
  },
  {
   "cell_type": "markdown",
   "id": "272402c5-a146-42ca-929d-b83ebfd3b597",
   "metadata": {
    "tags": []
   },
   "source": [
    "## [Home](0_Index.ipynb)🏠\n",
    "![licence.png](pics/licence.png) Licence Creative Commons Attribution - Partage dans les Mêmes Conditions 4.0 International"
   ]
  }
 ],
 "metadata": {
  "kernelspec": {
   "display_name": "Python 3 (ipykernel)",
   "language": "python",
   "name": "python3"
  },
  "language_info": {
   "codemirror_mode": {
    "name": "ipython",
    "version": 3
   },
   "file_extension": ".py",
   "mimetype": "text/x-python",
   "name": "python",
   "nbconvert_exporter": "python",
   "pygments_lexer": "ipython3",
   "version": "3.9.12"
  }
 },
 "nbformat": 4,
 "nbformat_minor": 5
}
