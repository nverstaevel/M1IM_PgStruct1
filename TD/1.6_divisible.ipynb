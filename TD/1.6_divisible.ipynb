{
 "cells": [
  {
   "cell_type": "markdown",
   "metadata": {},
   "source": [
    "# Divisible ⭐"
   ]
  },
  {
   "cell_type": "markdown",
   "metadata": {
    "nbgrader": {
     "grade": false,
     "grade_id": "cell-e8f0192bd90632dc",
     "locked": true,
     "schema_version": 3,
     "solution": false,
     "task": false
    },
    "tags": []
   },
   "source": [
    "### Tâche à réaliser 🎯\n",
    "\n",
    "Ecrire un algorithme qui retourne une valeur booléenne indiquant si deux nombres sont divisibles l’un par l'autre. \n",
    "Indications : \n",
    "- Les valeurs saisies pour les nombres `a` et `b` sont des entiers non nuls, mais pas forcément positifs. \n",
    "- En Python,  `%` correspond au modulo. Par exemple  `c = a % b` affecte à `c` le reste de la division euclidienne de `a` par `b`.\n",
    "    \n",
    "### Entrée 🔠\n",
    "\n",
    "2 entiers non nuls \n",
    "    \n",
    "### Sortie 🖥️\n",
    "Une valeur booléenne\n",
    "    \n",
    "### Exemples 👀\n",
    "\n",
    "Entrée : a=10 et b=30\n",
    "> Sortie : True\n",
    "\n",
    "Entrée : a=30 et b=-10\n",
    "> Sortie : True\n",
    "\n",
    "Entrée : a=-10 et b=-30\n",
    "> Sortie : True\n",
    "\n",
    "Entrée : a=8 et b=12\n",
    "> Sortie : False"
   ]
  },
  {
   "cell_type": "markdown",
   "metadata": {},
   "source": [
    "## Votre solution : "
   ]
  },
  {
   "cell_type": "code",
   "execution_count": null,
   "metadata": {},
   "outputs": [],
   "source": []
  },
  {
   "cell_type": "markdown",
   "metadata": {},
   "source": [
    "## Votre solution en une seule ligne de code! : "
   ]
  },
  {
   "cell_type": "code",
   "execution_count": null,
   "metadata": {},
   "outputs": [],
   "source": []
  },
  {
   "cell_type": "markdown",
   "metadata": {
    "tags": []
   },
   "source": [
    "## [Home](0_Index.ipynb)🏠\n",
    "![licence.png](pics/licence.png) Licence Creative Commons Attribution - Partage dans les Mêmes Conditions 4.0 International"
   ]
  }
 ],
 "metadata": {
  "kernelspec": {
   "display_name": "Python 3",
   "language": "python",
   "name": "python3"
  },
  "language_info": {
   "codemirror_mode": {
    "name": "ipython",
    "version": 3
   },
   "file_extension": ".py",
   "mimetype": "text/x-python",
   "name": "python",
   "nbconvert_exporter": "python",
   "pygments_lexer": "ipython3",
   "version": "3.10.12"
  }
 },
 "nbformat": 4,
 "nbformat_minor": 2
}
