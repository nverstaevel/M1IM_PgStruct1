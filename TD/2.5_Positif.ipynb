{
 "cells": [
  {
   "cell_type": "markdown",
   "id": "dc350928-8258-4bb5-a64e-95c4f62641da",
   "metadata": {},
   "source": [
    "# Signe des nombres ⭐"
   ]
  },
  {
   "cell_type": "markdown",
   "id": "931a4aac-5046-4c10-9166-ec5f3f948fd7",
   "metadata": {
    "nbgrader": {
     "grade": false,
     "grade_id": "cell-e8f0192bd90632dc",
     "locked": true,
     "schema_version": 3,
     "solution": false,
     "task": false
    },
    "tags": []
   },
   "source": [
    "### Tâche à réaliser 🎯\n",
    "\n",
    "Écrire un programme qui va demander successivement 5 nombres et afficher pour chacun d'entre eux s'il est positif ou négatif..\n",
    "    \n",
    "### Entrée 🔠\n",
    "\n",
    "nombre (5 fois)\n",
    "    \n",
    "### Sortie 🖥️\n",
    "signe du nombre (5 fois)\n",
    "    \n",
    "### Exemples 👀\n",
    "\n",
    "Entrée: nombre saisi  10\n",
    "> Sortie: 10 est positif\n",
    "\n",
    "Nombre saisi  -15\n",
    "> Sortie: -15 est négatif\n",
    "\n",
    "Nombre saisi  2\n",
    "> Sortie: 2 est positif\n",
    "\n",
    "Nombre saisi  -0\n",
    "> Sortie: -0 est nul\n",
    "\n",
    "Nombre saisi  0\n",
    "> Sortie: 0 est nul"
   ]
  },
  {
   "cell_type": "markdown",
   "id": "345605d1-8696-4160-8b5e-394a66aa37ce",
   "metadata": {},
   "source": [
    "## Votre solution : "
   ]
  },
  {
   "cell_type": "code",
   "execution_count": null,
   "id": "6a50f7fc-9a21-407a-a588-7882bd26badf",
   "metadata": {},
   "outputs": [],
   "source": [
    " "
   ]
  },
  {
   "cell_type": "markdown",
   "id": "272402c5-a146-42ca-929d-b83ebfd3b597",
   "metadata": {
    "tags": []
   },
   "source": [
    "## [Home](0_Index.ipynb)🏠\n",
    "![licence.png](pics/licence.png) Licence Creative Commons Attribution - Partage dans les Mêmes Conditions 4.0 International"
   ]
  }
 ],
 "metadata": {
  "kernelspec": {
   "display_name": "Python 3",
   "language": "python",
   "name": "python3"
  },
  "language_info": {
   "codemirror_mode": {
    "name": "ipython",
    "version": 3
   },
   "file_extension": ".py",
   "mimetype": "text/x-python",
   "name": "python",
   "nbconvert_exporter": "python",
   "pygments_lexer": "ipython3",
   "version": "3.10.12"
  }
 },
 "nbformat": 4,
 "nbformat_minor": 5
}
