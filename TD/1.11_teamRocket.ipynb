{
 "cells": [
  {
   "cell_type": "markdown",
   "id": "dc350928-8258-4bb5-a64e-95c4f62641da",
   "metadata": {},
   "source": [
    "# Team Rocket ⭐"
   ]
  },
  {
   "cell_type": "markdown",
   "id": "931a4aac-5046-4c10-9166-ec5f3f948fd7",
   "metadata": {
    "nbgrader": {
     "grade": false,
     "grade_id": "cell-e8f0192bd90632dc",
     "locked": true,
     "schema_version": 3,
     "solution": false,
     "task": false
    },
    "tags": []
   },
   "source": [
    "### Tâche à réaliser 🎯\n",
    "\n",
    "\n",
    "Jessie, James et Miaouss, membres de l'honorable Team Rocket, ont malheureusement connu des temps difficiles. Leurs fonds étant alloués à la construction de toutes sortes de robots géants et autres dispositifs, ils ont eu du mal à se procurer de la nourriture ces derniers temps. Mais ce n'est rien qu'une honnête journée de travail ne puisse réparer !\n",
    "\n",
    "James possède un bidon de restes de peinture, contenant $P (1≤P≤100)$ litres de la substance. Combiné à sa collection illimitée de bouchons de bouteille, cela peut donner des objets de grande qualité. Lorsqu'un bouchon de bouteille est habilement recouvert de $B (1≤B≤100)$ litres de peinture, il se transforme en un badge de gymnase tout à fait légitime et certifié par la ligue Pokémon !\n",
    "\n",
    "James produira autant de badges que possible à l'aide de la peinture, utilisant exactement $B$ litres chacun. Les dresseurs de Pokémon adorent leurs badges de gymnase. Chacun de ces badges est donc sûr de se vendre pour $D (1≤D≤100)$ Pokédollars.\n",
    "\n",
    "Il se peut qu'il reste encore un peu de peinture, une fois qu'il n'y en aura plus assez pour un autre badge complet. Cependant, il n'y a pas besoin de la gaspiller - James vendra toute peinture restante à un taux de $1$ Pokédollar par litre.\n",
    "\n",
    "Combien d'argent James va-t-il gagner au total pour l'équipe Rocket, grâce à la vente des badges et des restes de peinture ? J'espère que ce sera assez pour acheter au moins une miche de pain !\n",
    "    \n",
    "### Entrée 🔠\n",
    "\n",
    "Les entiers $P$, $B$ et $D$.\n",
    "    \n",
    "### Sortie 🖥️\n",
    "Le montant (en Pokédollars) que James va collecter.\n",
    "    \n",
    "### Exemples 👀\n",
    "\n",
    "Entrée: P=14, B=3, D=10\n",
    "\n",
    "> Sortie: James va collecter 42 Pokédollars\n"
   ]
  },
  {
   "cell_type": "markdown",
   "id": "345605d1-8696-4160-8b5e-394a66aa37ce",
   "metadata": {},
   "source": [
    "## Votre solution : "
   ]
  },
  {
   "cell_type": "code",
   "execution_count": null,
   "id": "6a50f7fc-9a21-407a-a588-7882bd26badf",
   "metadata": {},
   "outputs": [],
   "source": []
  },
  {
   "cell_type": "markdown",
   "id": "272402c5-a146-42ca-929d-b83ebfd3b597",
   "metadata": {
    "tags": []
   },
   "source": [
    "## [Home](0_Index.ipynb)🏠\n",
    "![licence.png](pics/licence.png) Licence Creative Commons Attribution - Partage dans les Mêmes Conditions 4.0 International"
   ]
  }
 ],
 "metadata": {
  "kernelspec": {
   "display_name": "Python 3",
   "language": "python",
   "name": "python3"
  },
  "language_info": {
   "codemirror_mode": {
    "name": "ipython",
    "version": 3
   },
   "file_extension": ".py",
   "mimetype": "text/x-python",
   "name": "python",
   "nbconvert_exporter": "python",
   "pygments_lexer": "ipython3",
   "version": "3.10.12"
  }
 },
 "nbformat": 4,
 "nbformat_minor": 5
}
