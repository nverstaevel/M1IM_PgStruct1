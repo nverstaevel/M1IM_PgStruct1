{
 "cells": [
  {
   "cell_type": "markdown",
   "id": "dc350928-8258-4bb5-a64e-95c4f62641da",
   "metadata": {},
   "source": [
    "# Portée des variables ⭐⭐"
   ]
  },
  {
   "cell_type": "markdown",
   "id": "931a4aac-5046-4c10-9166-ec5f3f948fd7",
   "metadata": {
    "nbgrader": {
     "grade": false,
     "grade_id": "cell-e8f0192bd90632dc",
     "locked": true,
     "schema_version": 3,
     "solution": false,
     "task": false
    },
    "tags": []
   },
   "source": [
    "### Tâche à réaliser 🎯\n",
    "\n",
    "Nous allons mener quelques expériences afin de bien comprendre la portée des variables en python.    \n",
    "\n",
    "### Expérience 1 👀\n",
    "Tentons d'afficher dans une fonction une variable définie en dehors de cette fonction."
   ]
  },
  {
   "cell_type": "code",
   "execution_count": 1,
   "id": "6a50f7fc-9a21-407a-a588-7882bd26badf",
   "metadata": {},
   "outputs": [
    {
     "name": "stdout",
     "output_type": "stream",
     "text": [
      "dans la fonction, m vaut 99\n",
      "dans la fonction, n vaut 4\n",
      "4\n",
      "hors de la fonction, m vaut 99\n",
      "hors de la fonction, n vaut 3\n"
     ]
    }
   ],
   "source": [
    "def plus_un(n):\n",
    "    n += 1\n",
    "    print(\"dans la fonction, m vaut\",m)\n",
    "    print(\"dans la fonction, n vaut\",n)\n",
    "    return n\n",
    "\n",
    "m = 99\n",
    "n = 3\n",
    "print(plus_un(n))\n",
    "print(\"hors de la fonction, m vaut\",m)\n",
    "print(\"hors de la fonction, n vaut\",n)"
   ]
  },
  {
   "cell_type": "markdown",
   "id": "08071e4d-dc72-42c4-ad59-d0a8b9c4528f",
   "metadata": {},
   "source": [
    "Concernant la portée (la visibilité) de la variable `m`, je peux en conclure que..."
   ]
  },
  {
   "cell_type": "markdown",
   "id": "0f0df99b-785a-4ac4-a03c-4b02ed2665be",
   "metadata": {},
   "source": []
  },
  {
   "cell_type": "markdown",
   "id": "11bac7a3-2dc0-4833-a093-c8b2bda2df1e",
   "metadata": {},
   "source": [
    "### Expérience 2 👀\n",
    "Répétons la même expérience, en ajoutant simplement une affectation de cette variable extérieure à la fonction."
   ]
  },
  {
   "cell_type": "code",
   "execution_count": 2,
   "id": "07f041d7-0391-4ed1-978d-b8de44d61205",
   "metadata": {},
   "outputs": [
    {
     "name": "stdout",
     "output_type": "stream",
     "text": [
      "dans la fonction, m vaut 0\n",
      "dans la fonction, n vaut 4\n",
      "4\n",
      "hors de la fonction, m vaut 99\n",
      "hors de la fonction, n vaut 3\n"
     ]
    }
   ],
   "source": [
    "def plus_un(n):\n",
    "    m = 0\n",
    "    n += 1\n",
    "    print(\"dans la fonction, m vaut\",m)\n",
    "    print(\"dans la fonction, n vaut\",n)\n",
    "    return n\n",
    "\n",
    "m = 99\n",
    "n = 3\n",
    "print(plus_un(n))\n",
    "print(\"hors de la fonction, m vaut\",m)\n",
    "print(\"hors de la fonction, n vaut\",n)\n"
   ]
  },
  {
   "cell_type": "markdown",
   "id": "c259bd75-6bd8-4d4b-9ff4-705af402477a",
   "metadata": {},
   "source": [
    "Concernant la portée (la visibilité) de la variable `m`, je peux désormais en conclure que..."
   ]
  },
  {
   "cell_type": "markdown",
   "id": "42d496d5-d0a2-4f31-92a1-0d3329301d42",
   "metadata": {},
   "source": []
  },
  {
   "cell_type": "markdown",
   "id": "4f6b21a0-5b18-4e88-b519-febdece86d84",
   "metadata": {},
   "source": [
    "*Sollicitez votre enseignant.e afin de vérifier que votre réponse est correcte.*"
   ]
  },
  {
   "cell_type": "markdown",
   "id": "5d32ddcb-f3ed-40d4-93ad-221009abe6aa",
   "metadata": {},
   "source": [
    "### Expérience 3 👀\n",
    "Répétons la même expérience, en ajoutant simplement `global m` en début de fonction."
   ]
  },
  {
   "cell_type": "code",
   "execution_count": 3,
   "id": "69c4b0e1-2a75-408b-bf6e-e5661712052f",
   "metadata": {},
   "outputs": [
    {
     "name": "stdout",
     "output_type": "stream",
     "text": [
      "dans la fonction, m vaut 0\n",
      "dans la fonction, n vaut 4\n",
      "4\n",
      "hors de la fonction, m vaut 0\n",
      "hors de la fonction, n vaut 3\n"
     ]
    }
   ],
   "source": [
    "def plus_un(n):\n",
    "    global m\n",
    "    m = 0\n",
    "    n += 1\n",
    "    print(\"dans la fonction, m vaut\",m)\n",
    "    print(\"dans la fonction, n vaut\",n)\n",
    "    return n\n",
    "\n",
    "m = 99\n",
    "n = 3\n",
    "print(plus_un(n))\n",
    "print(\"hors de la fonction, m vaut\",m)\n",
    "print(\"hors de la fonction, n vaut\",n)"
   ]
  },
  {
   "cell_type": "markdown",
   "id": "8ec602c1-1af5-454a-be82-fc174415b981",
   "metadata": {},
   "source": [
    "Concernant la portée (la visibilité) de la variable `m`, je peux maintenant en conclure que..."
   ]
  },
  {
   "cell_type": "markdown",
   "id": "19f05c6d-e9c7-432a-9c49-ca08b1e332e4",
   "metadata": {},
   "source": []
  },
  {
   "cell_type": "markdown",
   "id": "9099e460-ee02-44e8-bbc1-c9db5227ba61",
   "metadata": {},
   "source": [
    "*Sollicitez votre enseignant.e afin de vérifier que votre réponse est correcte.*"
   ]
  },
  {
   "cell_type": "markdown",
   "id": "7d61dd6a-eea2-4822-998e-3a1debf2b31b",
   "metadata": {},
   "source": [
    "## En conclusion :\n",
    "**On évite à tout prix d'utiliser des variables globales, car...**"
   ]
  },
  {
   "cell_type": "markdown",
   "id": "f2d4f3f7-3917-4186-a2c8-abd5a925cc01",
   "metadata": {},
   "source": []
  },
  {
   "cell_type": "markdown",
   "id": "0c27d6c0-7774-475f-acfa-4891e7f6245c",
   "metadata": {},
   "source": [
    "*Sollicitez votre enseignant.e afin de savoir si votre réponse est correcte.*"
   ]
  },
  {
   "cell_type": "markdown",
   "id": "0e53ea68-90e5-40d5-bc4c-a67a9e95bf64",
   "metadata": {},
   "source": [
    "### Exercice 👀\n",
    "**Pour modifier la valeur d'une variable qui se trouve en dehors d'une fonction, vous devez renvoyer la variable concernée.**\n",
    "\n",
    "Modifiez le programme suivant afin que la variable passée en paramètre **soit effectivement modifié en dehors de la fonction** (sans utiliser de variable globale)."
   ]
  },
  {
   "cell_type": "code",
   "execution_count": 4,
   "id": "591e0f33-1c80-4939-81f4-be8ffcbc1681",
   "metadata": {},
   "outputs": [
    {
     "name": "stdout",
     "output_type": "stream",
     "text": [
      "hors de la fonction, n vaut 3\n"
     ]
    }
   ],
   "source": [
    "def plus_un(n):\n",
    "    n += 1\n",
    "    return n\n",
    "\n",
    "n = 3\n",
    "n=plus_un(n)\n",
    "print(\"hors de la fonction, n vaut\",n)"
   ]
  },
  {
   "cell_type": "markdown",
   "id": "272402c5-a146-42ca-929d-b83ebfd3b597",
   "metadata": {
    "tags": []
   },
   "source": [
    "## [Home](0_Index.ipynb)🏠\n",
    "![licence.png](pics/licence.png) Licence Creative Commons Attribution - Partage dans les Mêmes Conditions 4.0 International"
   ]
  }
 ],
 "metadata": {
  "kernelspec": {
   "display_name": "Python 3",
   "language": "python",
   "name": "python3"
  },
  "language_info": {
   "codemirror_mode": {
    "name": "ipython",
    "version": 3
   },
   "file_extension": ".py",
   "mimetype": "text/x-python",
   "name": "python",
   "nbconvert_exporter": "python",
   "pygments_lexer": "ipython3",
   "version": "3.10.12"
  }
 },
 "nbformat": 4,
 "nbformat_minor": 5
}
