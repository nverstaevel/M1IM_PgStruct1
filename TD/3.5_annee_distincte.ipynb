{
 "cells": [
  {
   "cell_type": "markdown",
   "id": "dc350928-8258-4bb5-a64e-95c4f62641da",
   "metadata": {},
   "source": [
    "# Années distinctes ⭐"
   ]
  },
  {
   "cell_type": "markdown",
   "id": "931a4aac-5046-4c10-9166-ec5f3f948fd7",
   "metadata": {
    "nbgrader": {
     "grade": false,
     "grade_id": "cell-e8f0192bd90632dc",
     "locked": true,
     "schema_version": 3,
     "solution": false,
     "task": false
    },
    "tags": []
   },
   "source": [
    "### Tâche à réaliser 🎯\n",
    "\n",
    "Vous serez peut-être surpris d'apprendre que 2013 est la première année depuis 1987 à comporter des chiffres distincts. \n",
    "\n",
    "Les années 2014, 2015, 2016, 2017, 2018, 2019 ont chacune des chiffres distincts. \n",
    "\n",
    "L'année 2012 n'a pas de chiffres distincts, puisque le chiffre 2 est répété.\n",
    "\n",
    "Étant donné une année, quelle est l'année suivante avec des chiffres distincts ?\n",
    "\n",
    "### Entrée 🔠\n",
    "L'entrée consiste en un nombre entier Y 0<Y<10 000, représentant l'année de départ.\n",
    "\n",
    "### Sortie 🖥️\n",
    "La sortie sera le seul nombre entier D, qui est l'année suivante après Y avec des chiffres distincts.\n",
    "    \n",
    "### Exemples 👀\n",
    "\n",
    "Appel: 1989\n",
    "\n",
    "> Sortie : 2013"
   ]
  },
  {
   "cell_type": "markdown",
   "id": "11bac7a3-2dc0-4833-a093-c8b2bda2df1e",
   "metadata": {},
   "source": [
    "### Votre solution: "
   ]
  },
  {
   "cell_type": "code",
   "execution_count": null,
   "id": "07f041d7-0391-4ed1-978d-b8de44d61205",
   "metadata": {},
   "outputs": [],
   "source": []
  },
  {
   "cell_type": "markdown",
   "id": "272402c5-a146-42ca-929d-b83ebfd3b597",
   "metadata": {
    "tags": []
   },
   "source": [
    "## [Home](0_Index.ipynb)🏠\n",
    "![licence.png](pics/licence.png) Licence Creative Commons Attribution - Partage dans les Mêmes Conditions 4.0 International"
   ]
  }
 ],
 "metadata": {
  "kernelspec": {
   "display_name": "Python 3",
   "language": "python",
   "name": "python3"
  },
  "language_info": {
   "codemirror_mode": {
    "name": "ipython",
    "version": 3
   },
   "file_extension": ".py",
   "mimetype": "text/x-python",
   "name": "python",
   "nbconvert_exporter": "python",
   "pygments_lexer": "ipython3",
   "version": "3.10.12"
  }
 },
 "nbformat": 4,
 "nbformat_minor": 5
}
