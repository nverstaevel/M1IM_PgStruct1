{
 "cells": [
  {
   "cell_type": "markdown",
   "id": "dc350928-8258-4bb5-a64e-95c4f62641da",
   "metadata": {},
   "source": [
    "# Sous-listes ⭐"
   ]
  },
  {
   "cell_type": "markdown",
   "id": "931a4aac-5046-4c10-9166-ec5f3f948fd7",
   "metadata": {
    "nbgrader": {
     "grade": false,
     "grade_id": "cell-e8f0192bd90632dc",
     "locked": true,
     "schema_version": 3,
     "solution": false,
     "task": false
    },
    "tags": []
   },
   "source": [
    "## Tâche à réaliser 🎯\n",
    "\n",
    "Ecrire une fonction qui reçoit une liste de nombres et renvoie une nouvelle liste ne contenant que les positifs ou nuls de la liste initiale.\n",
    "    \n",
    "### Entrée 🔠\n",
    "\n",
    "Une liste de nombres flottants et/ou entiers.\n",
    "    \n",
    "### Sortie 🖥️\n",
    "Une liste de nombres positifs ou nuls issus de la liste donnée en entrée.\n",
    "    \n",
    "### Exemple 👀\n",
    "\n",
    "Entrée: `[4, 2.2, -1.4, -8, 5, 0]`\n",
    "\n",
    "> Sortie: `[4, 2.2, 5, 0]`"
   ]
  },
  {
   "cell_type": "markdown",
   "id": "345605d1-8696-4160-8b5e-394a66aa37ce",
   "metadata": {},
   "source": [
    "### Votre solution : "
   ]
  },
  {
   "cell_type": "code",
   "execution_count": null,
   "id": "6a50f7fc-9a21-407a-a588-7882bd26badf",
   "metadata": {},
   "outputs": [],
   "source": []
  },
  {
   "cell_type": "markdown",
   "id": "4e20c9f9-72c4-4047-9456-043948c3f52e",
   "metadata": {
    "nbgrader": {
     "grade": false,
     "grade_id": "cell-e8f0192bd90632dc",
     "locked": true,
     "schema_version": 3,
     "solution": false,
     "task": false
    },
    "tags": []
   },
   "source": [
    "## Tâche à réaliser 🎯\n",
    "\n",
    "Ecrire une fonction qui reçoit une liste de nombres et modifie cette liste afin qu'elle ne contienne des positifs ou nuls.\n",
    "    \n",
    "### Entrée 🔠\n",
    "\n",
    "Une liste de nombres flottants et/ou entiers.\n",
    "    \n",
    "### Sortie 🖥️\n",
    "Pas de retour. La liste entrée est modifiée afin de ne contenir que des nombres positifs ou nuls.\n",
    "    \n",
    "### Exemple 👀\n",
    "\n",
    "Entrée: `[4, 2.2, -1.4, -8, 5, 0]`\n",
    "\n",
    "> Sortie: `None` (mais la liste entrée vaut `[4, 2.2, 5, 0]`)"
   ]
  },
  {
   "cell_type": "markdown",
   "id": "373a903b-a957-42ff-9a37-dea09fafbdb8",
   "metadata": {},
   "source": [
    "### Votre solution : "
   ]
  },
  {
   "cell_type": "code",
   "execution_count": null,
   "id": "b8c7a8bc-c277-4326-93e4-f4f506fe97c4",
   "metadata": {},
   "outputs": [],
   "source": []
  },
  {
   "cell_type": "markdown",
   "id": "272402c5-a146-42ca-929d-b83ebfd3b597",
   "metadata": {
    "tags": []
   },
   "source": [
    "## [Home](0_Index.ipynb)🏠\n",
    "![licence.png](pics/licence.png) Licence Creative Commons Attribution - Partage dans les Mêmes Conditions 4.0 International"
   ]
  }
 ],
 "metadata": {
  "kernelspec": {
   "display_name": "Python 3",
   "language": "python",
   "name": "python3"
  },
  "language_info": {
   "codemirror_mode": {
    "name": "ipython",
    "version": 3
   },
   "file_extension": ".py",
   "mimetype": "text/x-python",
   "name": "python",
   "nbconvert_exporter": "python",
   "pygments_lexer": "ipython3",
   "version": "3.8.8"
  }
 },
 "nbformat": 4,
 "nbformat_minor": 5
}
