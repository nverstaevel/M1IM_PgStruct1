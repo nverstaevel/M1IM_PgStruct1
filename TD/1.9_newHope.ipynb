{
 "cells": [
  {
   "cell_type": "markdown",
   "metadata": {},
   "source": [
    "# A new hope - DMOJ problem wc15c2j1 https://dmoj.ca/problem/wc15c2j1 ⭐"
   ]
  },
  {
   "cell_type": "markdown",
   "metadata": {
    "nbgrader": {
     "grade": false,
     "grade_id": "cell-e8f0192bd90632dc",
     "locked": true,
     "schema_version": 3,
     "solution": false,
     "task": false
    },
    "tags": []
   },
   "source": [
    "### Tâche à réaliser 🎯\n",
    "\n",
    "\"C'est une période de guerre civile. Des programmes rebelles, frappant depuis un ordinateur caché, ont remporté leur première victoire contre les méchants Tests du système.\"\n",
    "Vous savez peut-être que les événements de la saga Star Wars se sont déroulés il y a très longtemps, dans une galaxie plutôt lointaine. Mais à quel point était-elle lointaine ? Nous pouvons essayer de la décrire en répétant le mot \"très\" un certain nombre de fois dans le format de phrase suivant :\n",
    "\n",
    "Il y a longtemps, dans une galaxie très, très lointaine...\n",
    "\n",
    "Dans l'exemple ci-dessus, le mot \"très\" est répété deux fois. Cependant, nous aimerions plutôt le répéter exactement $N(1≤N≤5)$ fois sans changer du tout au tout le reste de la phrase. Il devrait y avoir une virgule juste après chaque occurrence, sauf la dernière.\n",
    "\n",
    "Étant donné $N$, pouvez-vous produire la phrase correcte ?\n",
    "\n",
    "    \n",
    "### Entrée 🔠\n",
    "\n",
    "L'entrée consiste en un seul nombre entier $N$\n",
    "    \n",
    "### Sortie 🖥️\n",
    "Produisez sur une seule ligne la phrase appropriée avec \"très\" répété $N$ fois. Elle doit correspondre exactement à la bonne réponse !\n",
    "    \n",
    "### Exemples 👀\n",
    "\n",
    "Entrée: 4\n",
    "\n",
    "> Sortie: Il y a longtemps, dans une galaxie très, très, très, très lointaine...\n"
   ]
  },
  {
   "cell_type": "markdown",
   "metadata": {},
   "source": [
    "## Votre solution : "
   ]
  },
  {
   "cell_type": "code",
   "execution_count": null,
   "metadata": {},
   "outputs": [],
   "source": []
  },
  {
   "cell_type": "markdown",
   "metadata": {
    "tags": []
   },
   "source": [
    "## [Home](0_Index.ipynb)🏠\n",
    "![licence.png](pics/licence.png) Licence Creative Commons Attribution - Partage dans les Mêmes Conditions 4.0 International"
   ]
  }
 ],
 "metadata": {
  "kernelspec": {
   "display_name": "Python 3",
   "language": "python",
   "name": "python3"
  },
  "language_info": {
   "codemirror_mode": {
    "name": "ipython",
    "version": 3
   },
   "file_extension": ".py",
   "mimetype": "text/x-python",
   "name": "python",
   "nbconvert_exporter": "python",
   "pygments_lexer": "ipython3",
   "version": "3.10.12"
  }
 },
 "nbformat": 4,
 "nbformat_minor": 2
}
