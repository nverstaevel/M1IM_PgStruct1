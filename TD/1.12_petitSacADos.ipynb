{
 "cells": [
  {
   "cell_type": "markdown",
   "metadata": {},
   "source": [
    "# Un petit sac à dos ⭐"
   ]
  },
  {
   "cell_type": "markdown",
   "metadata": {
    "nbgrader": {
     "grade": false,
     "grade_id": "cell-e8f0192bd90632dc",
     "locked": true,
     "schema_version": 3,
     "solution": false,
     "task": false
    },
    "tags": []
   },
   "source": [
    "### Tâche à réaliser 🎯\n",
    "\n",
    "On souhaite pouvoir stocker les $4$ dernières saisies réalisées par l'utilisateur. Pour ce faire, on ne dispose que de 4 variables $A$,$B$,$C$,$D$. \n",
    "\n",
    "La dernière valeur saisie est stockée dans la variable $D$. Ainsi, à chaque nouvelle saisie, il faut décaler les valeurs vers la gauche de sorte que:\n",
    "    - $D$ corresponde à la dernière valeur saisie\n",
    "    - $C$ corresponde à l'avant-dernière valeur saisie\n",
    "    - $B$ corresponde à l'avant-avant-dernière valeur\n",
    "    - et $A$ corresponde à la valeur la plus ancienne.\n",
    "    \n",
    "### Entrée 🔠\n",
    "\n",
    "L'utilisateur peut saisir autant de valeurs qu'il le souhaite. À chaque saisie, on met à jour les variables.\n",
    "    \n",
    "### Sortie 🖥️\n",
    "On affiche après chaque saisie l'état des variables $A$,$B$,$C$,$D$.\n"
   ]
  },
  {
   "cell_type": "markdown",
   "metadata": {},
   "source": [
    "## Votre solution : "
   ]
  },
  {
   "cell_type": "code",
   "execution_count": null,
   "metadata": {},
   "outputs": [],
   "source": []
  },
  {
   "cell_type": "markdown",
   "metadata": {},
   "source": [
    "## Votre solution en une seule ligne de code! : "
   ]
  },
  {
   "cell_type": "code",
   "execution_count": null,
   "metadata": {},
   "outputs": [],
   "source": []
  },
  {
   "cell_type": "markdown",
   "metadata": {
    "tags": []
   },
   "source": [
    "## [Home](0_Index.ipynb)🏠\n",
    "![licence.png](pics/licence.png) Licence Creative Commons Attribution - Partage dans les Mêmes Conditions 4.0 International"
   ]
  }
 ],
 "metadata": {
  "kernelspec": {
   "display_name": "Python 3",
   "language": "python",
   "name": "python3"
  },
  "language_info": {
   "codemirror_mode": {
    "name": "ipython",
    "version": 3
   },
   "file_extension": ".py",
   "mimetype": "text/x-python",
   "name": "python",
   "nbconvert_exporter": "python",
   "pygments_lexer": "ipython3",
   "version": "3.10.12"
  }
 },
 "nbformat": 4,
 "nbformat_minor": 2
}
