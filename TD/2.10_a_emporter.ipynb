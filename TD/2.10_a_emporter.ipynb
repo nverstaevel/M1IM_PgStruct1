{
 "cells": [
  {
   "cell_type": "markdown",
   "id": "dc350928-8258-4bb5-a64e-95c4f62641da",
   "metadata": {},
   "source": [
    "# A emporter s'il vous plait ⭐"
   ]
  },
  {
   "cell_type": "markdown",
   "id": "931a4aac-5046-4c10-9166-ec5f3f948fd7",
   "metadata": {
    "nbgrader": {
     "grade": false,
     "grade_id": "cell-e8f0192bd90632dc",
     "locked": true,
     "schema_version": 3,
     "solution": false,
     "task": false
    },
    "tags": []
   },
   "source": [
    "### Tâche à réaliser 🎯\n",
    "\n",
    "Au fast-food de Chip, le menu est très simple. Chaque aliment est sélectionné en entrant un choix de chiffres.\n",
    "\n",
    "Voici les trois choix de hamburgers :\n",
    "> 1 - Cheeseburger (461 Calories)\n",
    "> 2 - Fish Burger (431 Calories)\n",
    "> 3 - Veggie Burger (420 Calories)\n",
    "> 4 - pas de burger\t\n",
    "\n",
    "Voici les trois choix de boissons :\n",
    "> 1 - Boisson gazeuse (130 Calories)\n",
    "> 2 - Jus d'orange (160 Calories)\n",
    "> 3 - Lait (118 Calories)\n",
    "> 4 - pas de boisson\n",
    "\n",
    "Voici les trois choix d'accompagnements :\n",
    "> 1 - Frites (100 Calories)\n",
    "> 2 - Pommes de terre au four (57 Calories)\n",
    "> 3 - Salade du chef (70 Calories)\n",
    "> 4 - pas de commande d'accompagnement\t\n",
    "\n",
    "Voici les trois choix de desserts :\n",
    "> 1 - Tarte aux pommes (167 Calories)\n",
    "> 2 - Sundae (266 Calories)\n",
    "> 3 - Coupe de fruits (75 Calories)\n",
    "> 4 - pas de dessert\n",
    "\n",
    "Écrivez un programme qui calculera le nombre total de calories d'un repas en fonction du menu choisi.\n",
    "\n",
    "### Entrée 🔠\n",
    "\n",
    "L'utilisateur doit entrer un nombre pour chaque catégorie d'article. Puis, le programme calcule et affiche le total des calories. La première valeur demandée sera le choix du client pour le hamburger, la deuxième sera le choix de l'accompagnement, puis la boisson, puis le dessert. Vous pouvez supposer que chaque entrée sera un nombre de 1 à 4, c'est-à-dire que chaque client doit choisir exactement un nombre parmi les quatre options de chacune des quatre catégories.\n",
    "    \n",
    "### Sortie 🖥️\n",
    "Le programme imprime le nombre total de calories du repas sélectionné et arrête de s'exécuter après cette sortie.\n",
    "    \n",
    "### Exemples 👀\n",
    "\n",
    "Entrée: 2, 1 3, 4\n",
    "\n",
    "> Sortie: Vous allez consommer 631 calories"
   ]
  },
  {
   "cell_type": "markdown",
   "id": "345605d1-8696-4160-8b5e-394a66aa37ce",
   "metadata": {},
   "source": [
    "## Votre solution : "
   ]
  },
  {
   "cell_type": "code",
   "execution_count": null,
   "id": "6a50f7fc-9a21-407a-a588-7882bd26badf",
   "metadata": {},
   "outputs": [],
   "source": []
  },
  {
   "cell_type": "markdown",
   "id": "272402c5-a146-42ca-929d-b83ebfd3b597",
   "metadata": {
    "tags": []
   },
   "source": [
    "## [Home](0_Index.ipynb)🏠\n",
    "![licence.png](pics/licence.png) Licence Creative Commons Attribution - Partage dans les Mêmes Conditions 4.0 International"
   ]
  }
 ],
 "metadata": {
  "kernelspec": {
   "display_name": "Python 3",
   "language": "python",
   "name": "python3"
  },
  "language_info": {
   "codemirror_mode": {
    "name": "ipython",
    "version": 3
   },
   "file_extension": ".py",
   "mimetype": "text/x-python",
   "name": "python",
   "nbconvert_exporter": "python",
   "pygments_lexer": "ipython3",
   "version": "3.10.12"
  }
 },
 "nbformat": 4,
 "nbformat_minor": 5
}
