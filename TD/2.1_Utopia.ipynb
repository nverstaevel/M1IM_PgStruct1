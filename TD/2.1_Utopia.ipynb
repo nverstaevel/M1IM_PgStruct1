{
 "cells": [
  {
   "cell_type": "markdown",
   "id": "dc350928-8258-4bb5-a64e-95c4f62641da",
   "metadata": {},
   "source": [
    "# Quota écologique ⭐"
   ]
  },
  {
   "cell_type": "markdown",
   "id": "931a4aac-5046-4c10-9166-ec5f3f948fd7",
   "metadata": {
    "nbgrader": {
     "grade": false,
     "grade_id": "cell-e8f0192bd90632dc",
     "locked": true,
     "schema_version": 3,
     "solution": false,
     "task": false
    },
    "tags": []
   },
   "source": [
    "### Tâche à réaliser 🎯\n",
    "Dans la ville d'Utopia, un quota écologique a été mis en place: chaque citoyen possède initialement 100 points. Les points lui sont retirés en fonction de certaines actions et de leur impact écologique:\n",
    "* 1 vêtement acheté: 10 points\n",
    "* 1 vol intérieur: 20 points\n",
    "* 1000km en voiture: 25 points\n",
    "* 1 vol international: 60 points\n",
    "\n",
    "Créer un programme qui affiche, en fonction des actions données d'un citoyen d'Utopia, son quota écologique :\n",
    "- \"*Félicitation, votre quota est intact*\" si aucun point n’est perdu, \n",
    "- Sinon le nombre de points restants.\n",
    "\n",
    "    \n",
    "### Entrée 🔠\n",
    "Nombre de vêtements, de vols intérieurs, de milliers de km en voiture et de vols internationaux.\n",
    "    \n",
    "### Sortie 🖥️\n",
    "Message de félicitations ou nombre de points restants\n",
    "    \n",
    "### Exemples 👀\n",
    "\n",
    "Entrée: vêtements=0, vol intérieur=0, 1000km en voiture=0, vol international=0\n",
    "\n",
    "> Sortie: Félicitation, votre quota écologique est intact\n",
    "    \n",
    "Entrée: vêtements=2, vol intérieur=1, 1000km en voiture=2, vol international=0\n",
    "\n",
    "> Sortie: Il vous reste 10 points\n"
   ]
  },
  {
   "cell_type": "markdown",
   "id": "345605d1-8696-4160-8b5e-394a66aa37ce",
   "metadata": {},
   "source": [
    "## Votre solution : "
   ]
  },
  {
   "cell_type": "code",
   "execution_count": null,
   "id": "6a50f7fc-9a21-407a-a588-7882bd26badf",
   "metadata": {},
   "outputs": [],
   "source": []
  },
  {
   "cell_type": "markdown",
   "id": "272402c5-a146-42ca-929d-b83ebfd3b597",
   "metadata": {
    "tags": []
   },
   "source": [
    "## [Home](0_Index.ipynb)🏠\n",
    "![licence.png](pics/licence.png) Licence Creative Commons Attribution - Partage dans les Mêmes Conditions 4.0 International"
   ]
  }
 ],
 "metadata": {
  "kernelspec": {
   "display_name": "Python 3",
   "language": "python",
   "name": "python3"
  },
  "language_info": {
   "codemirror_mode": {
    "name": "ipython",
    "version": 3
   },
   "file_extension": ".py",
   "mimetype": "text/x-python",
   "name": "python",
   "nbconvert_exporter": "python",
   "pygments_lexer": "ipython3",
   "version": "3.10.12"
  }
 },
 "nbformat": 4,
 "nbformat_minor": 5
}
