{
 "cells": [
  {
   "cell_type": "markdown",
   "id": "dc350928-8258-4bb5-a64e-95c4f62641da",
   "metadata": {},
   "source": [
    "# Divisible ⭐"
   ]
  },
  {
   "cell_type": "markdown",
   "id": "931a4aac-5046-4c10-9166-ec5f3f948fd7",
   "metadata": {
    "nbgrader": {
     "grade": false,
     "grade_id": "cell-e8f0192bd90632dc",
     "locked": true,
     "schema_version": 3,
     "solution": false,
     "task": false
    },
    "tags": []
   },
   "source": [
    "### Tâche à réaliser 🎯\n",
    "\n",
    "Ecrire un algorithme, **avec des structures conditionnelles sans opérateurs logiques**, qui retourne une valeur booléenne indiquant si deux nombres sont divisibles l’un par l'autre. \n",
    "\n",
    "Indications : \n",
    "- Les valeurs saisies pour les nombres a et b sont des entiers non nuls, mais pas forcément positifs. \n",
    "- En Python,  % correspond au modulo. Par exemple  c= a % b affecte à c le reste de la division euclidienne de a par b.\n",
    "\n",
    "    \n",
    "### Entrée 🔠\n",
    "2 entiers non nuls \n",
    "    \n",
    "### Sortie 🖥️\n",
    "Une valeur booléenne\n",
    "    \n",
    "### Exemples 👀\n",
    "Entrée : a=10 et b=30\n",
    "> Sortie : True\n",
    "\n",
    "Entrée : a=30 et b=-10\n",
    "> Sortie : True\n",
    "\n",
    "Entrée : a=-10 et b=-30\n",
    "> Sortie : True\n",
    "\n",
    "Entrée : a=8 et b=12\n",
    "> Sortie : False\n"
   ]
  },
  {
   "cell_type": "markdown",
   "id": "345605d1-8696-4160-8b5e-394a66aa37ce",
   "metadata": {},
   "source": [
    "## Votre solution : "
   ]
  },
  {
   "cell_type": "code",
   "execution_count": null,
   "id": "6a50f7fc-9a21-407a-a588-7882bd26badf",
   "metadata": {},
   "outputs": [],
   "source": []
  },
  {
   "cell_type": "markdown",
   "id": "272402c5-a146-42ca-929d-b83ebfd3b597",
   "metadata": {
    "tags": []
   },
   "source": [
    "## [Home](0_Index.ipynb)🏠\n",
    "![licence.png](pics/licence.png) Licence Creative Commons Attribution - Partage dans les Mêmes Conditions 4.0 International"
   ]
  }
 ],
 "metadata": {
  "kernelspec": {
   "display_name": "Python 3",
   "language": "python",
   "name": "python3"
  },
  "language_info": {
   "codemirror_mode": {
    "name": "ipython",
    "version": 3
   },
   "file_extension": ".py",
   "mimetype": "text/x-python",
   "name": "python",
   "nbconvert_exporter": "python",
   "pygments_lexer": "ipython3",
   "version": "3.10.12"
  }
 },
 "nbformat": 4,
 "nbformat_minor": 5
}
