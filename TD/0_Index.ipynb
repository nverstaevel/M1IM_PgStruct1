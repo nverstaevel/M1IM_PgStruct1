{
 "cells": [
  {
   "attachments": {
    "e876c14d-77d5-4ad9-b0e5-974c33c1dcd8.png": {
     "image/png": "[encoded data removed]"
    }
   },
   "cell_type": "markdown",
   "id": "e0dbf65a-f8f8-4821-87f8-b1962eed3c5f",
   "metadata": {},
   "source": [
    "# ![image.png](attachment:e876c14d-77d5-4ad9-b0e5-974c33c1dcd8.png) Master 1 Ingénierie Métier (IM) : Programmation Structurée 1 2022/2023\n",
    "# Equipe pédagogique \n",
    "    Sophie Martinez - Sophie.Martinez@ut-capitole.fr\n",
    "    Laurent Marsan - laurent.marsan@ut-capitole.fr\n",
    "    Nicolas Verstaevel - Nicolas.Verstaevel@ut-capitole.fr\n",
    "    \n",
    "# [Guide d'utilisation d'un notebook](0.1_Guide_Notebook.ipynb)\n",
    "\n",
    "# Difficultés:\n",
    "- ⭐: Normal - 5 - 10 minutes\n",
    "- ⭐⭐: Moyen - 15 - 30 minutes\n",
    "- ⭐⭐⭐: Difficile - 30 minute et plus\n",
    "- 🏆: Challenge\n",
    "    \n",
    "# Index des TPs\n",
    "## 1: Variables, entrées, sorties et opérateurs\n",
    "\n",
    "### 1.1 [Compter les mots d'une phrase](1.1_compter_les_mots.ipynb) ⭐\n",
    "### 1.2 [Convertir des $ en €](1.2_conversion.ipynb) ⭐\n",
    "### 1.3 [Annuité de remboursement](1.3_annuite.ipynb) ⭐\n",
    "### 1.4 [Tarification des photocopies](1.4_photocopies.ipynb) ⭐\n",
    "### 1.5 [Géométrie](1.5_geometrie.ipynb) ⭐\n",
    "### 1.6 [Divisible](1.6_divisible.ipynb) ⭐\n",
    "### 1.7 [Vitesse](1.7_vitesse.ipynb) ⭐\n",
    "### 1.8 [Spooky](1.8_spooky.ipynb) ⭐\n",
    "### 1.9 [Un nouvel espoir - A new hope](1.9_newHope.ipynb) ⭐\n",
    "### 1.10 [Quel est l'age du capitaine?](1.10_ageCaptain.ipynb) ⭐\n",
    "### 1.11 [Team Rocket](1.11_teamRocket.ipynb) ⭐\n",
    "### 1.12 [Un petit Sac à Dos](1.12_petitSacADos.ipynb) ⭐\n",
    "### 1.13 [Non mutables](1.13_non_mutables.ipynb) ⭐⭐\n",
    "### 1.14 [Formatage des données](1.14_formats.ipynb) ⭐⭐\n",
    "\n",
    "\n",
    "## 2: Les structures de contrôle\n",
    "### 2.1 [Chasse](2.1_Chasse.ipynb) ⭐\n",
    "### 2.2 [Course](2.2_Course.ipynb) ⭐\n",
    "### 2.3 [Devine](2.3_Devine.ipynb) ⭐\n",
    "### 2.4 [Divisible 2](2.4_Divisibleif.ipynb) ⭐\n",
    "### 2.5 [Positif](2.5_Positif.ipynb) ⭐\n",
    "### 2.6 [Table de multiplication 1](2.6_Tabledemultiplication1.ipynb) ⭐\n",
    "### 2.7 [Table de multiplication 2](2.7_Tabledemultiplication2.ipynb) ⭐\n",
    "### 2.8 [Pommes VS Bananes](2.8_pommes_vs_bananes.ipynb) ⭐\n",
    "### 2.9 [Filtrer les appels](2.9_filtrer_les_appels.ipynb) ⭐\n",
    "### 2.10 [A emporter](2.10_a_emporter.ipynb) ⭐\n",
    "### 2.11 [Happy or sad](2.11_happy_or_sad.ipynb) ⭐🇬🇧\n",
    "### 2.12 [Who's in the Middle?](2.12_middle.ipynb) ⭐🇬🇧\n",
    "### 2.13 [Cryptographie](2.13_cryptographie_easy.ipynb) ⭐⭐\n",
    "### 2.14 [Cryptographie de Vigenere](2.14_cryptage_vigenere.ipynb) ⭐⭐\n",
    "### 2.15 [Les trois coupes](2.15_les_trois_coupes.ipynb) ⭐\n",
    "### 2.16 [Forfait de données](2.16_forfait_donnees.ipynb) ⭐\n",
    "### 2.17 [Mot de passe](2.17_mot_de_passe.ipynb) ⭐\n",
    "### 2.17 [Dessine moi...](2.18_challenge.ipynb) 🏆\n",
    "\n",
    "\n",
    "## 3: Les fonctions\n",
    "### 3.0 [Appels de fonctions](3.0_appel_fonctions.ipynb) ⭐\n",
    "### 3.1 [Maximums](3.1_Maximums.ipynb) ⭐\n",
    "### 3.2 [Somme et Moyenne](3.2_Sommeetmoyenne.ipynb) ⭐\n",
    "### 3.3 [Chifoumi](3.3_chifoumi.ipynb) ⭐⭐\n",
    "### 3.4 [Portée des variables](3.4_portée_variables.ipynb) ⭐⭐\n",
    "### 3.5 [Années distinctes](3.5_annee_distincte.ipynb) ⭐\n",
    "### 3.6 [Tables de multiplications 3](3.6_Tabledemultiplication3.ipynb) ⭐\n",
    "\n",
    "## 4: Les structures de données \n",
    "### 4.1 [Mois](4.1_mois.ipynb) ⭐\n",
    "### 4.2 [Traduction des mois](4.2_moistrad.ipynb) ⭐\n",
    "### 4.3 [Tirage 3 dès](4.3_tirage3des.ipynb) ⭐⭐\n",
    "### 4.4 [Bataille](4.4_bataille.ipynb) ⭐⭐\n",
    "### 4.5 [Second maximum](4.5_second_max.ipynb) ⭐\n",
    "### 4.6 [Sous-listes](4.6_sous_listes.ipynb) ⭐  \n",
    "### 4.7 [Moyenne des ventes](4.7_moyenne_ventes.ipynb) ⭐  \n",
    "### 4.8 [ToDo Liste](4.8_todo.ipynb) ⭐  \n",
    "### 4.9 [Demineur simple](4.9_bombes.ipynb) ⭐ \n",
    "### 4.10 [Quand est-ce qu'on arrive?](4.10_are_we_there.ipynb) ⭐\n",
    "\n",
    "## 5: Cas d'étude\n",
    "### 5.1 [Gestion des notes](5.1_gestion_notes.ipynb) ⭐⭐\n",
    "### 5.2 [OnLoueTout](5.2_onlouetout.ipynb) ⭐⭐\n",
    "### 5.3 [LotoGogo](5.3_Lotogogoipynb) ⭐⭐"
   ]
  },
  {
   "cell_type": "markdown",
   "id": "d21ce16d-80ae-4904-883e-433cc59dbbd1",
   "metadata": {},
   "source": [
    "# Bibliographie\n",
    "*Learn to Code by Solving Problems*, Daniel Zingaro\n",
    "Edité par Penguin Random House Group 2021-06-23, San Francisco, CA (2021)\n",
    "ISBN 10 : 1718501323  ISBN 13 : 9781718501324\n",
    "\n",
    "*Le tutoriel Python*, https://docs.python.org/fr/3/tutorial/, © Copyright 2001-2022, Python Software Foundation."
   ]
  },
  {
   "cell_type": "markdown",
   "id": "198a2063-802a-4c9c-9909-e90849cd3140",
   "metadata": {},
   "source": [
    "![licence](pics/licence.png) Licence Creative Commons Attribution - Partage dans les Mêmes Conditions 4.0 International"
   ]
  }
 ],
 "metadata": {
  "kernelspec": {
   "display_name": "Python 3 (ipykernel)",
   "language": "python",
   "name": "python3"
  },
  "language_info": {
   "codemirror_mode": {
    "name": "ipython",
    "version": 3
   },
   "file_extension": ".py",
   "mimetype": "text/x-python",
   "name": "python",
   "nbconvert_exporter": "python",
   "pygments_lexer": "ipython3",
   "version": "3.9.7"
  }
 },
 "nbformat": 4,
 "nbformat_minor": 5
}
