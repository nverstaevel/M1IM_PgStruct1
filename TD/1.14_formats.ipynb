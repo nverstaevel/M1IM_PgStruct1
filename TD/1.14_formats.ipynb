{
 "cells": [
  {
   "cell_type": "markdown",
   "metadata": {},
   "source": [
    "<img src=\"https://1.bp.blogspot.com/_DMxDOYqJJ7Q/TKsFmonOxkI/AAAAAAAABgw/Bl_8enQTLI4/s1600/les-daltons-bd.gif\" align=right width=\"250\">  \n",
    "\n",
    "# Formatage des données ⭐⭐\n",
    "\n",
    "### Tâche à réaliser 🎯\n",
    "Vous allez devoir formater précisément les données que vous souhaitez afficher.\n",
    "Nous allons manipuler les `f-strings`, qui permettent de spécifier le format sous lequel une donnée est représentée."
   ]
  },
  {
   "cell_type": "markdown",
   "metadata": {},
   "source": [
    "Lorsqu'on utilise `print`, on peut facilement mêler texte et variables, de la façon suivante :"
   ]
  },
  {
   "cell_type": "code",
   "execution_count": null,
   "metadata": {
    "scrolled": true
   },
   "outputs": [],
   "source": [
    "h = 12\n",
    "m = 8\n",
    "print(\"il est exactement\",h,\"heures et\",m,\"minutes\")"
   ]
  },
  {
   "cell_type": "markdown",
   "metadata": {},
   "source": [
    "<img src=\"https://cdn.pixabay.com/photo/2018/01/04/16/53/building-3061124_960_720.png\" width=30 align=left>  <div class=\"alert alert-block alert-danger\">**Ex1 - Restez zen**  \n",
    "Initialisez 3 variables `x`, `y` et `z` avec des valeurs quelconques et affichez quelque chose comme `coordonnées du point A(12,17,-5)` en utilisant les valeurs des trois variables comme coordonnées.</div>"
   ]
  },
  {
   "cell_type": "code",
   "execution_count": null,
   "metadata": {
    "scrolled": true
   },
   "outputs": [],
   "source": []
  },
  {
   "cell_type": "markdown",
   "metadata": {},
   "source": [
    "Après cet exercice, vous devez avoir compris que cette notation qui mélange texte et variables est extrêmement pénible et met parfois des espaces là où on n'en voudrait pas.\n",
    "Il nous faut un autre moyen de réaliser ce genre d'affichages...  \n",
    "\n",
    "Pour se simplifier la vie lors de l'affichage, on va utiliser le **formatage des chaînes de caractères** à l'aide des **f-strings**, qui permettent de mêler facilement texte et variables, et de modifier le format des variables. "
   ]
  },
  {
   "cell_type": "markdown",
   "metadata": {},
   "source": [
    "<img src=\"https://cdn.pixabay.com/photo/2016/10/18/19/40/anatomy-1751201_960_720.png\" width=\"30\" align=left> <div class=\"alert alert-block alert-info\">**IMPORTANT** : Le **format**, c'est la façon de représenter une valeur.  \n",
    "    Par exemple, l'entier `12` peut être affiché sous forme de flottant `12.0` ou d'hexadécimal `0xC`.</div>"
   ]
  },
  {
   "cell_type": "markdown",
   "metadata": {},
   "source": [
    "Voici la façon de procéder pour mêler texte et variables :"
   ]
  },
  {
   "cell_type": "code",
   "execution_count": null,
   "metadata": {
    "scrolled": true
   },
   "outputs": [],
   "source": [
    "b = 2\n",
    "print(f\"il a mangé {b} beignets\")"
   ]
  },
  {
   "cell_type": "code",
   "execution_count": null,
   "metadata": {
    "scrolled": true
   },
   "outputs": [],
   "source": [
    "q = \"quand\"\n",
    "p = \"+\"\n",
    "u = 1\n",
    "print(f\"C'est {q} même {u} petit peu {p} simple, non?\")"
   ]
  },
  {
   "cell_type": "markdown",
   "metadata": {},
   "source": [
    "Le préfixe `f` en amont d'une chaîne indique qu'on va formater la chaîne.  \n",
    "On peut, dans les accolades et à côté de l'identifiant de la variable utilisée, ajouter des instructions de formatage :"
   ]
  },
  {
   "cell_type": "code",
   "execution_count": null,
   "metadata": {
    "scrolled": true
   },
   "outputs": [],
   "source": [
    "pr = 12\n",
    "print(f\"Ce truc coûte {pr}€ mais on va plutôt afficher {pr:.2f}€.\")"
   ]
  },
  {
   "cell_type": "markdown",
   "metadata": {},
   "source": [
    "<img src=\"https://cdn.pixabay.com/photo/2016/10/18/19/40/anatomy-1751201_960_720.png\" width=\"30\" align=left> <div class=\"alert alert-block alert-info\">**IMPORTANT** : on peut **formater** (modifier le format) d'une chaîne de caractères en utilisant `f` en amont de la chaîne, associé à des `{}`.  \n",
    "Dans ces accolades, on précise la variable dont on souhaite afficher la valeur, et éventuellement le format qu'on souhaite lui appliquer.  \n",
    "Exemples: pour une variable `a`\n",
    " * `{a:f}` la convertit en **flottant**\n",
    " * `{a:s}` la convertit en **string**\n",
    " * `{a:x}` convertit en **hexadécimal**\n",
    " * `{a:3f}` indique, pour une variable numérique, qu'on souhaite afficher sa valeur sur au moins 3 caractères\n",
    " * `{a:.2f}` indique, pour une variable décimale, qu'on souhaite une précision de 2 chiffres après la virgule\n",
    " \n",
    "Pour davantage de détails voir [le mini-langage de spécification de format](https://docs.python.org/fr/3/library/string.html#format-specification-mini-language).</div>"
   ]
  },
  {
   "cell_type": "markdown",
   "metadata": {},
   "source": [
    "<img src=\"https://cdn.pixabay.com/photo/2018/01/04/16/53/building-3061124_960_720.png\" width=30 align=left>  <div class=\"alert alert-block alert-danger\">**Ex2.1 - Mon beau tableau**  \n",
    "Dans le code suivant, réalisez un bel affichage de chaque nom et score sous forme de tableau, comme suit : \n",
    "\n",
    "```jack         5```\n",
    "    \n",
    "```jo\t      17```\n",
    "\n",
    "```william     13```\n",
    "    \n",
    "```averell\t  0```</div>"
   ]
  },
  {
   "cell_type": "code",
   "execution_count": null,
   "metadata": {},
   "outputs": [],
   "source": []
  },
  {
   "cell_type": "markdown",
   "metadata": {},
   "source": [
    "<img src=\"https://cdn.pixabay.com/photo/2018/01/04/16/53/building-3061124_960_720.png\" width=30 align=left>  <div class=\"alert alert-block alert-danger\">**Ex2.2 - Mon très beau tableau**  \n",
    "Améliorez encore le formatage afin d'aligner les noms à droite (à vous de chercher dans la doc comment procéder) :\n",
    "\n",
    "```      jack\t  5```\n",
    "    \n",
    "```        jo\t 17```\n",
    "    \n",
    "```   william     13```\n",
    "    \n",
    "```   averell\t  0```</div>"
   ]
  },
  {
   "cell_type": "code",
   "execution_count": null,
   "metadata": {
    "scrolled": true
   },
   "outputs": [],
   "source": []
  },
  {
   "cell_type": "markdown",
   "metadata": {},
   "source": [
    "<img src=\"https://cdn.pixabay.com/photo/2016/10/18/19/40/anatomy-1751201_960_720.png\" width=\"30\" align=left> <div class=\"alert alert-block alert-info\">**TRES IMPORTANT** : ce procédé de formatage des *strings* se nomme *f-strings*. Il a été introduit à partir de python 3.7. Si vous disposez d'une version antérieure, vous devez utiliser le procédé qui prévalait alors et qui différe sensiblement, voir [ici](https://docs.python.org/fr/3.5/tutorial/inputoutput.html#).</div>"
   ]
  }
 ],
 "metadata": {
  "kernelspec": {
   "display_name": "Python 3",
   "language": "python",
   "name": "python3"
  },
  "language_info": {
   "codemirror_mode": {
    "name": "ipython",
    "version": 3
   },
   "file_extension": ".py",
   "mimetype": "text/x-python",
   "name": "python",
   "nbconvert_exporter": "python",
   "pygments_lexer": "ipython3",
   "version": "3.8.8"
  },
  "toc": {
   "base_numbering": 1,
   "nav_menu": {},
   "number_sections": true,
   "sideBar": true,
   "skip_h1_title": false,
   "title_cell": "Table of Contents",
   "title_sidebar": "Contents",
   "toc_cell": false,
   "toc_position": {},
   "toc_section_display": true,
   "toc_window_display": false
  }
 },
 "nbformat": 4,
 "nbformat_minor": 4
}
