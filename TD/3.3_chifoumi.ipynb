{
 "cells": [
  {
   "cell_type": "markdown",
   "id": "dc350928-8258-4bb5-a64e-95c4f62641da",
   "metadata": {
    "tags": []
   },
   "source": [
    "# Chifoumi ⭐⭐"
   ]
  },
  {
   "cell_type": "markdown",
   "id": "931a4aac-5046-4c10-9166-ec5f3f948fd7",
   "metadata": {
    "nbgrader": {
     "grade": false,
     "grade_id": "cell-e8f0192bd90632dc",
     "locked": true,
     "schema_version": 3,
     "solution": false,
     "task": false
    },
    "tags": []
   },
   "source": [
    "### Tâche à réaliser 🎯\n",
    "Ecrire un programme qui joue à pierre-feuille-ciseau. Les règles sont :\n",
    "- La pierre écrase les ciseaux et gagne.\n",
    "- La feuille enveloppe la pierre et gagne.\n",
    "- Les ciseaux découpent la feuille et gagnent.\n",
    "\n",
    "Pour cela écrire une première fonction `F_gagnant` qui prend le choix de deux joueurs en paramètres et retourne \n",
    "- 1 si le joueur 1 gagne\n",
    "- 2 si le joueur 2 gagne\n",
    "- 0 si égalité\n",
    "\n",
    "### Entrée 🔠\n",
    "choix joueur 1 et choix joueur 2 (P ou F ou C)\n",
    "    \n",
    "### Sortie 🖥️\n",
    "le résultat d'un match soit 0,1 ou 2\n",
    "    \n",
    "### Exemples 👀\n",
    "\n",
    "Appel: `F_gagnant('P','C')`\n",
    "\n",
    "> Sortie : `1`\n",
    "\n",
    "Appel: `F_gagnant('F','C')`\n",
    "\n",
    "> Sortie : `2`\n",
    "\n",
    "Appel: `F_gagnant('P','P')`\n",
    "\n",
    "> Sortie : `0`\n",
    "\n",
    "Appel: `F_gagnant('P','G')`\n",
    "\n",
    "> Sortie : `AssertionError: joueur 2 : ce signe n'existe pas`"
   ]
  },
  {
   "cell_type": "markdown",
   "id": "345605d1-8696-4160-8b5e-394a66aa37ce",
   "metadata": {},
   "source": [
    "## Votre solution : "
   ]
  },
  {
   "cell_type": "code",
   "execution_count": null,
   "id": "6a50f7fc-9a21-407a-a588-7882bd26badf",
   "metadata": {},
   "outputs": [],
   "source": []
  },
  {
   "cell_type": "markdown",
   "id": "f7cf1d1b-91e6-49c4-b9b3-f872341f1268",
   "metadata": {
    "nbgrader": {
     "grade": false,
     "grade_id": "cell-e8f0192bd90632dc",
     "locked": true,
     "schema_version": 3,
     "solution": false,
     "task": false
    },
    "tags": []
   },
   "source": [
    "### Tâche à réaliser 🎯\n",
    "\n",
    "Ecrire la fonction `F_choix` qui tire les choix d'un joueur au hasard.\n",
    "  \n",
    "### Entrée 🔠\n",
    "Aucune\n",
    "    \n",
    "### Sortie 🖥️\n",
    "'P' ou 'C' ou 'F'\n",
    "\n",
    "### Exemples 👀\n",
    "\n",
    "Appel: `F_choix()`\n",
    "\n",
    "> Sortie : effectuer plusieurs tests pour vérifier que vous obtenez bien les 3 choix\n",
    "    "
   ]
  },
  {
   "cell_type": "code",
   "execution_count": null,
   "id": "b236973e-c016-4f07-8a8b-9084501db569",
   "metadata": {},
   "outputs": [],
   "source": []
  },
  {
   "cell_type": "markdown",
   "id": "790e7052-6bcf-4bb5-b5ee-2ac2326d2259",
   "metadata": {
    "nbgrader": {
     "grade": false,
     "grade_id": "cell-e8f0192bd90632dc",
     "locked": true,
     "schema_version": 3,
     "solution": false,
     "task": false
    },
    "tags": []
   },
   "source": [
    "### Tâche à réaliser 🎯\n",
    "\n",
    "En utilisant les deux fonctions précédentes, écrire un programme qui va lancer 5 parties de chifoumi successives. \n",
    "  \n",
    "### Entrée 🔠\n",
    "Aucune\n",
    "    \n",
    "### Sortie 🖥️\n",
    " * Les choix de chaque tour et le gagnant du tour\n",
    " * Le score total de chaque joueur et le gagnant.\n",
    "    "
   ]
  },
  {
   "cell_type": "code",
   "execution_count": null,
   "id": "31c558ca-2bc6-4a4e-9467-2ff8085cad3b",
   "metadata": {},
   "outputs": [],
   "source": [
    "    "
   ]
  },
  {
   "cell_type": "markdown",
   "id": "272402c5-a146-42ca-929d-b83ebfd3b597",
   "metadata": {
    "tags": []
   },
   "source": [
    "## [Home](0_Index.ipynb)🏠\n",
    "![licence.png](pics/licence.png) Licence Creative Commons Attribution - Partage dans les Mêmes Conditions 4.0 International"
   ]
  }
 ],
 "metadata": {
  "kernelspec": {
   "display_name": "Python 3",
   "language": "python",
   "name": "python3"
  },
  "language_info": {
   "codemirror_mode": {
    "name": "ipython",
    "version": 3
   },
   "file_extension": ".py",
   "mimetype": "text/x-python",
   "name": "python",
   "nbconvert_exporter": "python",
   "pygments_lexer": "ipython3",
   "version": "3.8.8"
  }
 },
 "nbformat": 4,
 "nbformat_minor": 5
}
