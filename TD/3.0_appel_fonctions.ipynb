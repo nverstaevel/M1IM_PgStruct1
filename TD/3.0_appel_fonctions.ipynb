{
 "cells": [
  {
   "cell_type": "markdown",
   "id": "dc350928-8258-4bb5-a64e-95c4f62641da",
   "metadata": {},
   "source": [
    "# Appels de fonctions ⭐"
   ]
  },
  {
   "cell_type": "markdown",
   "id": "931a4aac-5046-4c10-9166-ec5f3f948fd7",
   "metadata": {
    "nbgrader": {
     "grade": false,
     "grade_id": "cell-e8f0192bd90632dc",
     "locked": true,
     "schema_version": 3,
     "solution": false,
     "task": false
    },
    "tags": []
   },
   "source": [
    "## Tâche à réaliser (1/3) 🎯\n",
    "\n",
    "Ecrire une fonction `double(n)` qui reçoit un nombre `n` et renvoie son double. **Attention**: votre fonction ne doit pas **afficher** mais **renvoyer** le résultat.\n",
    "    \n",
    "### Entrée 🔠\n",
    "\n",
    "Un nombre entier ou flottant.\n",
    "    \n",
    "### Sortie 🖥️\n",
    "Le double du nombre reçu en entrée.\n",
    "    \n",
    "### Exemples 👀\n",
    "\n",
    "Entrée: 5\n",
    "\n",
    "> Sortie: 10\n",
    "    \n",
    "Entrée: -2.31\n",
    "\n",
    "> Sortie: -4.62"
   ]
  },
  {
   "cell_type": "markdown",
   "id": "345605d1-8696-4160-8b5e-394a66aa37ce",
   "metadata": {},
   "source": [
    "## Votre solution : \n",
    "(récupérez le retour de votre appel de fonction dans une variable `res`**puis** affichez la)"
   ]
  },
  {
   "cell_type": "code",
   "execution_count": null,
   "id": "6a50f7fc-9a21-407a-a588-7882bd26badf",
   "metadata": {
    "tags": []
   },
   "outputs": [],
   "source": []
  },
  {
   "cell_type": "markdown",
   "id": "41156110-c737-4e66-9e2c-ba2b2bcd0112",
   "metadata": {
    "nbgrader": {
     "grade": false,
     "grade_id": "cell-e8f0192bd90632dc",
     "locked": true,
     "schema_version": 3,
     "solution": false,
     "task": false
    },
    "tags": []
   },
   "source": [
    "## Tâche à réaliser (2/3) 🎯\n",
    "\n",
    "Ecrire une fonction `cube(n)` qui reçoit un nombre `n` et renvoie son cube. **Attention**: votre fonction ne doit pas **afficher** mais **renvoyer** le résultat.\n",
    "    \n",
    "### Entrée 🔠\n",
    "\n",
    "Un nombre entier ou flottant.\n",
    "    \n",
    "### Sortie 🖥️\n",
    "Le cube du nombre reçu en entrée.\n",
    "    \n",
    "### Exemples 👀\n",
    "\n",
    "Entrée: 3\n",
    "\n",
    "> Sortie: 27"
   ]
  },
  {
   "cell_type": "markdown",
   "id": "3bf26842-f5ae-443f-b82b-5bfefb5a511f",
   "metadata": {},
   "source": [
    "## Votre solution : \n",
    "(récupérez le retour de votre appel de fonction dans une variable `res`**puis** affichez la)"
   ]
  },
  {
   "cell_type": "code",
   "execution_count": null,
   "id": "05b38abe-78ce-4879-93ab-7e181dba4806",
   "metadata": {},
   "outputs": [],
   "source": []
  },
  {
   "cell_type": "markdown",
   "id": "8d5c08f0-01ec-4fd9-a323-0e4a0013c5cd",
   "metadata": {
    "nbgrader": {
     "grade": false,
     "grade_id": "cell-e8f0192bd90632dc",
     "locked": true,
     "schema_version": 3,
     "solution": false,
     "task": false
    },
    "tags": []
   },
   "source": [
    "## Tâche à réaliser (3/3) 🎯\n",
    "\n",
    "Ecrire une fonction `double_du_cube_du_double(n)` qui reçoit un nombre `n` et renvoie le double du cube de son double. **Attention**: votre fonction ne doit pas **afficher** mais **renvoyer** le résultat.\n",
    "    \n",
    "### Entrée 🔠\n",
    "\n",
    "Un nombre entier ou flottant.\n",
    "    \n",
    "### Sortie 🖥️\n",
    "Le double du cube du double du nombre reçu en entrée.\n",
    "    \n",
    "### Exemples 👀\n",
    "\n",
    "Entrée: 3\n",
    "\n",
    "> Sortie: 432"
   ]
  },
  {
   "cell_type": "markdown",
   "id": "a4bb6aee-a9a5-435f-9b53-e4e24865240b",
   "metadata": {},
   "source": [
    "## Votre solution : \n",
    "(vous utiliserez évidemment les deux fonctions écrites précédemment pour écrire celle-ci)"
   ]
  },
  {
   "cell_type": "code",
   "execution_count": null,
   "id": "ff50f405-754e-4247-8c2c-750d824f53f5",
   "metadata": {
    "tags": []
   },
   "outputs": [],
   "source": []
  },
  {
   "cell_type": "markdown",
   "id": "272402c5-a146-42ca-929d-b83ebfd3b597",
   "metadata": {
    "tags": []
   },
   "source": [
    "## [Home](0_Index.ipynb)🏠\n",
    "![licence.png](pics/licence.png) Licence Creative Commons Attribution - Partage dans les Mêmes Conditions 4.0 International"
   ]
  }
 ],
 "metadata": {
  "kernelspec": {
   "display_name": "Python 3 (ipykernel)",
   "language": "python",
   "name": "python3"
  },
  "language_info": {
   "codemirror_mode": {
    "name": "ipython",
    "version": 3
   },
   "file_extension": ".py",
   "mimetype": "text/x-python",
   "name": "python",
   "nbconvert_exporter": "python",
   "pygments_lexer": "ipython3",
   "version": "3.9.12"
  }
 },
 "nbformat": 4,
 "nbformat_minor": 5
}
