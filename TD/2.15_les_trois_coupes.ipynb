{
 "cells": [
  {
   "cell_type": "markdown",
   "id": "dc350928-8258-4bb5-a64e-95c4f62641da",
   "metadata": {},
   "source": [
    "# Les trois coupes DMOJ coci06c5p1 ⭐"
   ]
  },
  {
   "cell_type": "markdown",
   "id": "931a4aac-5046-4c10-9166-ec5f3f948fd7",
   "metadata": {
    "nbgrader": {
     "grade": false,
     "grade_id": "cell-e8f0192bd90632dc",
     "locked": true,
     "schema_version": 3,
     "solution": false,
     "task": false
    },
    "tags": []
   },
   "source": [
    "### Tâche à réaliser 🎯\n",
    "\n",
    "Jaloux de la position de Mirko en tant que chef du village, Borko a fait irruption dans sa tente et a tenté de démontrer son incompétence en lui jouant un tour.\n",
    "\n",
    "Borko place trois gobelets opaques sur la table, l'un à côté de l'autre (ouverture vers le bas) et une petite balle sous le gobelet le plus à gauche. Il échange ensuite plusieurs fois deux gobelets de l'une des trois manières possibles. Mirko doit dire sous quel gobelet la balle se retrouve.\n",
    "\n",
    "Le sage Mirko sourit, les bras croisés, tandis que Borko s'efforce de déplacer les gobelets de plus en plus vite. Ce que Borko ne sait pas, c'est que des programmeurs à l'arrière enregistrent tous ses mouvements et utiliseront un simple programme pour déterminer où se trouve la balle. \n",
    "\n",
    "Ce programmeur c'est vous!\n",
    "    \n",
    "### Entrée 🔠\n",
    "\n",
    "La première et unique ligne contient une chaîne de 50 caractères au maximum, les coups de Borko. Chacun des mouvenements est représenté par un caractère :\n",
    "- A : échange gobelets gauche et milieu\n",
    "- B : échange gobelets milieu et droit\n",
    "- C : échange gobelets gauche et droit\n",
    "    \n",
    "### Sortie 🖥️\n",
    "Donne le gobelet sous lequel se trouve la balle : si elle est sous le gobelet de gauche, si elle est sous le gobelet du milieu ou si elle est sous le gobelet de droite.\n",
    "    \n",
    "### Exemples 👀\n",
    "\n",
    "Entrée: AB\n",
    "\n",
    "> Sortie: \"La balle est sous le gobelet de droite\"\n",
    "    \n",
    "Entrée: CBABCACCC\n",
    "\n",
    "> Sortie: \"La balle est sous le gobelet de gauche\""
   ]
  },
  {
   "cell_type": "markdown",
   "id": "345605d1-8696-4160-8b5e-394a66aa37ce",
   "metadata": {},
   "source": [
    "## Votre solution : "
   ]
  },
  {
   "cell_type": "code",
   "execution_count": null,
   "id": "6a50f7fc-9a21-407a-a588-7882bd26badf",
   "metadata": {},
   "outputs": [],
   "source": []
  },
  {
   "cell_type": "markdown",
   "id": "272402c5-a146-42ca-929d-b83ebfd3b597",
   "metadata": {
    "tags": []
   },
   "source": [
    "## [Home](0_Index.ipynb)🏠\n",
    "![licence.png](pics/licence.png) Licence Creative Commons Attribution - Partage dans les Mêmes Conditions 4.0 International"
   ]
  }
 ],
 "metadata": {
  "kernelspec": {
   "display_name": "Python 3",
   "language": "python",
   "name": "python3"
  },
  "language_info": {
   "codemirror_mode": {
    "name": "ipython",
    "version": 3
   },
   "file_extension": ".py",
   "mimetype": "text/x-python",
   "name": "python",
   "nbconvert_exporter": "python",
   "pygments_lexer": "ipython3",
   "version": "3.10.12"
  }
 },
 "nbformat": 4,
 "nbformat_minor": 5
}
