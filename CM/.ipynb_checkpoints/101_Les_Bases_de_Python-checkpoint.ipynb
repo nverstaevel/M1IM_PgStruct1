{
 "cells": [
  {
   "cell_type": "markdown",
   "id": "c30199cf-95c2-4522-ad60-a73d8a05b3f4",
   "metadata": {
    "slideshow": {
     "slide_type": "slide"
    }
   },
   "source": [
    "# ![./pics/logo_ut1.jpg](./pics/logo_ut1.jpg) Master 1 Ingénierie Métier (IM) : Programmation Structurée 1 2023/2024\n",
    "\n",
    "# Les bases de Python: Variables, opérateurs, entrées et sorties\n",
    "\n",
    "### Equipe pédagogique \n",
    "    Laurent Marsan - Laurent.Marsan@ut-capitole.fr\n",
    "    Nicolas Verstaevel - Nicolas.Verstaevel@ut-capitole.fr"
   ]
  },
  {
   "cell_type": "markdown",
   "id": "4c634748",
   "metadata": {
    "slideshow": {
     "slide_type": "slide"
    }
   },
   "source": [
    "# Remarque\n",
    "\n",
    "__Ceci n'est pas un cours de Python__, mais nous allons utiliser le language Python comme support pour transcrire nos algorithmes. Aussi, nous ne présenterons pas toutes les subtilités de Python (mais vous pourrez les explorer en TD!). \n",
    "\n",
    "La documentation de Python est disponible ici : https://docs.python.org/3/"
   ]
  },
  {
   "cell_type": "markdown",
   "id": "a3fdaef1",
   "metadata": {
    "slideshow": {
     "slide_type": "slide"
    }
   },
   "source": [
    "# Language compilé ou interprété\n",
    "\n",
    "On a vu qu'un **algorithme** permet de décrire une méthode pour résoudre un problème. \n",
    "\n",
    "Pour pouvoir être interpréter par la machine, un **algorithme** doit être transcrit dans un lagage machine.\n",
    "\n",
    "On peut distinguer deux grands types de langages : les langages **interprétés** et les langages **compilés**. \n",
    "* langages interprétés : $SQL$, $Shell$, $Python$;\n",
    "* langages compilés : $C$, $C++$, $Pascal$, $OCaml$.\n",
    "\n",
    "Note: Certaines langages, comme $Java$, sont compilés puis interpretés."
   ]
  },
  {
   "cell_type": "markdown",
   "id": "c19c9931",
   "metadata": {
    "slideshow": {
     "slide_type": "slide"
    }
   },
   "source": [
    "# Avantage des languages interprétés\n",
    "\n",
    "| +  | -  |\n",
    "|---|---|\n",
    "| Ils peuvent être exécutés sur n'importe quelle plate-forme.  | L'exécution de ces langages est plus lente que les langages compilés.  | \n",
    "| Ils n'occupent presque pas d'espace mémoire.  | Ils sont difficiles à déboguer.  |\n",
    "| L'environnement de travail est celui qui est chargé de s'assurer que le matériel exécute les instructions qui lui sont données.  | Vous avez besoin d'un logiciel qui est utilisé pour interpréter les instructions du processeur.  | \n",
    "| Les variables de données utilisées deviennent dynamiques et ne sont donc pas limitées à un type spécifique. | |"
   ]
  },
  {
   "cell_type": "markdown",
   "id": "2fe8dd31",
   "metadata": {
    "slideshow": {
     "slide_type": "slide"
    }
   },
   "source": [
    "# Valeurs et Expressions\n",
    "\n",
    "Les **Valeurs** sont un élement fondamental des programmes Python. \n",
    "\n",
    "Chaque valeur a un **type**, et le type détermine les **opérations** qui peuvent être effectuées sur la valeur.\n",
    "\n",
    "Le resultat d'une **opération** est évalué par l'ordinateur. On parle alors d'une **expression**.\n",
    "\n",
    "Le caractère $#$ permet d'écrire des commentaires. Ils ne sont pas interprétés par la machine, mais utile pour les développeurs pour comprendre le code."
   ]
  },
  {
   "cell_type": "code",
   "execution_count": 3,
   "id": "e980e3e6",
   "metadata": {
    "slideshow": {
     "slide_type": "-"
    }
   },
   "outputs": [
    {
     "data": {
      "text/plain": [
       "10"
      ]
     },
     "execution_count": 3,
     "metadata": {},
     "output_type": "execute_result"
    }
   ],
   "source": [
    "# Ceci est un commentaire\n",
    "10 # Ceci est 10"
   ]
  },
  {
   "cell_type": "markdown",
   "id": "bab212ca",
   "metadata": {
    "slideshow": {
     "slide_type": "slide"
    }
   },
   "source": [
    "# Principaux types en python\n",
    "\n",
    "## Nombres entiers ($int$)\n",
    "\n",
    "## Nombres flottants ($float$)\n",
    "\n",
    "## Booléens ($bool$)\n",
    "\n",
    "## Chaînes de caractères ($str$)"
   ]
  },
  {
   "cell_type": "markdown",
   "id": "fb0878e8",
   "metadata": {
    "slideshow": {
     "slide_type": "slide"
    }
   },
   "source": [
    "# Nombres entiers ($int$)\n",
    "\n",
    "Python (comme tout les languages) permet d'effectuer des calculs sur des **nombre entiers**$^1$. \n",
    "\n",
    "Un nombre entier est composé d'une **série de chiffres**, éventuellement précédée d'un **signe** ($+$,$-$). \n",
    "\n",
    "On peut effectuer les opérations artihmétique usuelles sur ces chiffres.\n",
    "\n",
    "Pour vérifier les priorités sur les opérateurs en Python :https://docs.python.org/3/reference/expressions.html#operator-precedence\n",
    "\n",
    "$^1$: Avec Python3, la valeur d'un entier n'est pas limitée par le nombre de bits, et peut s'étendre jusqu'à la limite de la mémoire disponible. Ce n'est pas le cas de Python2 qui dispose de deux types distincts, $int$ et $long int$."
   ]
  },
  {
   "cell_type": "code",
   "execution_count": 2,
   "id": "cb63bad7",
   "metadata": {
    "slideshow": {
     "slide_type": "slide"
    }
   },
   "outputs": [
    {
     "data": {
      "text/plain": [
       "2"
      ]
     },
     "execution_count": 2,
     "metadata": {},
     "output_type": "execute_result"
    }
   ],
   "source": [
    "1 + 1 # addition"
   ]
  },
  {
   "cell_type": "code",
   "execution_count": 3,
   "id": "51281298",
   "metadata": {
    "slideshow": {
     "slide_type": "-"
    }
   },
   "outputs": [
    {
     "data": {
      "text/plain": [
       "-1"
      ]
     },
     "execution_count": 3,
     "metadata": {},
     "output_type": "execute_result"
    }
   ],
   "source": [
    "2 - 3 # soustraction"
   ]
  },
  {
   "cell_type": "code",
   "execution_count": 4,
   "id": "68a700b4",
   "metadata": {
    "slideshow": {
     "slide_type": "-"
    }
   },
   "outputs": [
    {
     "data": {
      "text/plain": [
       "12"
      ]
     },
     "execution_count": 4,
     "metadata": {},
     "output_type": "execute_result"
    }
   ],
   "source": [
    "3 * 4 # multiplication"
   ]
  },
  {
   "cell_type": "code",
   "execution_count": 5,
   "id": "97f5b180",
   "metadata": {
    "slideshow": {
     "slide_type": "-"
    }
   },
   "outputs": [
    {
     "data": {
      "text/plain": [
       "1"
      ]
     },
     "execution_count": 5,
     "metadata": {},
     "output_type": "execute_result"
    }
   ],
   "source": [
    "5 // 3 # division entière, à ne pas mélanger avec la division réelle /"
   ]
  },
  {
   "cell_type": "code",
   "execution_count": 6,
   "id": "4198a7b8",
   "metadata": {
    "slideshow": {
     "slide_type": "-"
    }
   },
   "outputs": [
    {
     "data": {
      "text/plain": [
       "0"
      ]
     },
     "execution_count": 6,
     "metadata": {},
     "output_type": "execute_result"
    }
   ],
   "source": [
    "100 % 10 # modulo (reste de la division euclidienne)"
   ]
  },
  {
   "cell_type": "code",
   "execution_count": 7,
   "id": "7a8c34f2",
   "metadata": {
    "slideshow": {
     "slide_type": "-"
    }
   },
   "outputs": [
    {
     "data": {
      "text/plain": [
       "36"
      ]
     },
     "execution_count": 7,
     "metadata": {},
     "output_type": "execute_result"
    }
   ],
   "source": [
    "6**2 # puissance"
   ]
  },
  {
   "cell_type": "code",
   "execution_count": 8,
   "id": "3dbf1465",
   "metadata": {
    "slideshow": {
     "slide_type": "-"
    }
   },
   "outputs": [
    {
     "data": {
      "text/plain": [
       "328509.0"
      ]
     },
     "execution_count": 8,
     "metadata": {},
     "output_type": "execute_result"
    }
   ],
   "source": [
    "((5 + 18)* 36 / 12) ** 3 # Les opérateurs peuvent être combinés en respectant la priorité mathématique des opérations. N'hésitez pas à utiliser les parenthèses pour forcer les priorités et rendre vos algorithmes plus lisible."
   ]
  },
  {
   "cell_type": "markdown",
   "id": "3fabf121",
   "metadata": {
    "slideshow": {
     "slide_type": "slide"
    }
   },
   "source": [
    "# Nombres flottants ($float$)\n",
    "\n",
    "On peut aussi représenter des nombres à virgule, ce sont les flottants $float$ (*floating point number*).\n",
    "\n",
    "Un nombre flottant se compose d'une partie entière composée de chiffres, un $.$, et une partie décimale composée de chiffres.\n",
    "\n",
    "Ils peuvent également être suivis d'un exposant noté $e$ correspondant à la notation scientifique ($e$ signifiant multiplié par 10 puissance $x$). Par exemple, $1e2$ = $100.0$."
   ]
  },
  {
   "cell_type": "code",
   "execution_count": 9,
   "id": "71c87c0b",
   "metadata": {
    "slideshow": {
     "slide_type": "slide"
    }
   },
   "outputs": [
    {
     "data": {
      "text/plain": [
       "6.2"
      ]
     },
     "execution_count": 9,
     "metadata": {},
     "output_type": "execute_result"
    }
   ],
   "source": [
    "2.5 + 3.7 #addition"
   ]
  },
  {
   "cell_type": "code",
   "execution_count": 10,
   "id": "aea18a4c",
   "metadata": {
    "slideshow": {
     "slide_type": "-"
    }
   },
   "outputs": [
    {
     "data": {
      "text/plain": [
       "-1.2000000000000002"
      ]
     },
     "execution_count": 10,
     "metadata": {},
     "output_type": "execute_result"
    }
   ],
   "source": [
    "2.5 - 3.7 # soustraction"
   ]
  },
  {
   "cell_type": "code",
   "execution_count": 11,
   "id": "9c5fbedf",
   "metadata": {
    "slideshow": {
     "slide_type": "-"
    }
   },
   "outputs": [
    {
     "data": {
      "text/plain": [
       "9.25"
      ]
     },
     "execution_count": 11,
     "metadata": {},
     "output_type": "execute_result"
    }
   ],
   "source": [
    "2.5 * 3.7 # multiplication"
   ]
  },
  {
   "cell_type": "code",
   "execution_count": 12,
   "id": "861e677f",
   "metadata": {
    "slideshow": {
     "slide_type": "-"
    }
   },
   "outputs": [
    {
     "data": {
      "text/plain": [
       "0.6756756756756757"
      ]
     },
     "execution_count": 12,
     "metadata": {},
     "output_type": "execute_result"
    }
   ],
   "source": [
    "2.5 / 3.7 # Division réelle, à ne pas mélanger avec la division entière /"
   ]
  },
  {
   "cell_type": "code",
   "execution_count": 13,
   "id": "d0bbc51c",
   "metadata": {
    "slideshow": {
     "slide_type": "-"
    }
   },
   "outputs": [
    {
     "data": {
      "text/plain": [
       "29.67413253642086"
      ]
     },
     "execution_count": 13,
     "metadata": {},
     "output_type": "execute_result"
    }
   ],
   "source": [
    "2.5 ** 3.7 # puissance"
   ]
  },
  {
   "cell_type": "code",
   "execution_count": 14,
   "id": "d3778fff",
   "metadata": {
    "slideshow": {
     "slide_type": "-"
    }
   },
   "outputs": [
    {
     "data": {
      "text/plain": [
       "0.3333333333333333"
      ]
     },
     "execution_count": 14,
     "metadata": {},
     "output_type": "execute_result"
    }
   ],
   "source": [
    "1.0 / 3.0"
   ]
  },
  {
   "cell_type": "code",
   "execution_count": 15,
   "id": "6d07c362",
   "metadata": {
    "slideshow": {
     "slide_type": "-"
    }
   },
   "outputs": [
    {
     "data": {
      "text/plain": [
       "2.5"
      ]
     },
     "execution_count": 15,
     "metadata": {},
     "output_type": "execute_result"
    }
   ],
   "source": [
    "1 * 2.5 # On peut aussi effectuer les opérations entre des entiers et des flottants"
   ]
  },
  {
   "cell_type": "markdown",
   "id": "4d0b2fdd",
   "metadata": {
    "slideshow": {
     "slide_type": "slide"
    }
   },
   "source": [
    "# Booléens ($bool$)\n",
    "\n",
    "Un booléen permet de représenter une valeur de vérité qui est soit $True$, c'est à dire Vraie, soit $False$, c'est à dire fausse. \n",
    "\n",
    "On peut utiliser les opérateurs logiques $and$, $or$ et $not$. \n",
    "\n",
    "Pour un rappel sur l'algèbre de Boole : https://fr.wikipedia.org/wiki/Alg%C3%A8bre_de_Boole_(logique)"
   ]
  },
  {
   "cell_type": "code",
   "execution_count": 16,
   "id": "e5378674",
   "metadata": {
    "slideshow": {
     "slide_type": "-"
    }
   },
   "outputs": [
    {
     "data": {
      "text/plain": [
       "False"
      ]
     },
     "execution_count": 16,
     "metadata": {},
     "output_type": "execute_result"
    }
   ],
   "source": [
    "False and True"
   ]
  },
  {
   "cell_type": "code",
   "execution_count": 17,
   "id": "b133e610",
   "metadata": {},
   "outputs": [
    {
     "data": {
      "text/plain": [
       "True"
      ]
     },
     "execution_count": 17,
     "metadata": {},
     "output_type": "execute_result"
    }
   ],
   "source": [
    "True or False"
   ]
  },
  {
   "cell_type": "code",
   "execution_count": 18,
   "id": "3ba86a77",
   "metadata": {},
   "outputs": [
    {
     "data": {
      "text/plain": [
       "False"
      ]
     },
     "execution_count": 18,
     "metadata": {},
     "output_type": "execute_result"
    }
   ],
   "source": [
    "not True"
   ]
  },
  {
   "cell_type": "markdown",
   "id": "daccd578",
   "metadata": {
    "slideshow": {
     "slide_type": "slide"
    }
   },
   "source": [
    "On se sert principalement des booléens comme résultat d'une opération de comparaison entre des valeurs d'autres types"
   ]
  },
  {
   "cell_type": "code",
   "execution_count": 19,
   "id": "576135f0",
   "metadata": {
    "slideshow": {
     "slide_type": "-"
    }
   },
   "outputs": [
    {
     "data": {
      "text/plain": [
       "True"
      ]
     },
     "execution_count": 19,
     "metadata": {},
     "output_type": "execute_result"
    }
   ],
   "source": [
    "1 + 1 == 2 # Egalité == (à ne pas mélanger avec =)"
   ]
  },
  {
   "cell_type": "code",
   "execution_count": 20,
   "id": "34a949c3",
   "metadata": {
    "slideshow": {
     "slide_type": "-"
    }
   },
   "outputs": [
    {
     "data": {
      "text/plain": [
       "True"
      ]
     },
     "execution_count": 20,
     "metadata": {},
     "output_type": "execute_result"
    }
   ],
   "source": [
    "64 * 4 != 0 # La différence !="
   ]
  },
  {
   "cell_type": "code",
   "execution_count": 21,
   "id": "8623da1e",
   "metadata": {
    "slideshow": {
     "slide_type": "-"
    }
   },
   "outputs": [
    {
     "data": {
      "text/plain": [
       "True"
      ]
     },
     "execution_count": 21,
     "metadata": {},
     "output_type": "execute_result"
    }
   ],
   "source": [
    "3 < 4 # Inférieur strict"
   ]
  },
  {
   "cell_type": "code",
   "execution_count": 22,
   "id": "6a9002ec",
   "metadata": {
    "slideshow": {
     "slide_type": "-"
    }
   },
   "outputs": [
    {
     "data": {
      "text/plain": [
       "False"
      ]
     },
     "execution_count": 22,
     "metadata": {},
     "output_type": "execute_result"
    }
   ],
   "source": [
    "6 > 12 # Supérieur strict"
   ]
  },
  {
   "cell_type": "code",
   "execution_count": 23,
   "id": "f4441cbb",
   "metadata": {
    "slideshow": {
     "slide_type": "-"
    }
   },
   "outputs": [
    {
     "data": {
      "text/plain": [
       "True"
      ]
     },
     "execution_count": 23,
     "metadata": {},
     "output_type": "execute_result"
    }
   ],
   "source": [
    "2 <= 4 # Inférieur ou égal"
   ]
  },
  {
   "cell_type": "code",
   "execution_count": 24,
   "id": "26fd4ba1",
   "metadata": {
    "slideshow": {
     "slide_type": "-"
    }
   },
   "outputs": [
    {
     "data": {
      "text/plain": [
       "False"
      ]
     },
     "execution_count": 24,
     "metadata": {},
     "output_type": "execute_result"
    }
   ],
   "source": [
    "2 >= 4 # Supérieur ou égal"
   ]
  },
  {
   "cell_type": "code",
   "execution_count": 25,
   "id": "ceb6ebb0",
   "metadata": {
    "slideshow": {
     "slide_type": "-"
    }
   },
   "outputs": [
    {
     "data": {
      "text/plain": [
       "False"
      ]
     },
     "execution_count": 25,
     "metadata": {},
     "output_type": "execute_result"
    }
   ],
   "source": [
    "(2 >= 4) or (6 < 2 * 0)"
   ]
  },
  {
   "cell_type": "code",
   "execution_count": 2,
   "id": "dd37ad4e-8d67-45cc-b257-42b79e330cb0",
   "metadata": {},
   "outputs": [
    {
     "data": {
      "text/plain": [
       "True"
      ]
     },
     "execution_count": 2,
     "metadata": {},
     "output_type": "execute_result"
    }
   ],
   "source": [
    "1 <= 1.3 < 2 # double inégalité"
   ]
  },
  {
   "cell_type": "markdown",
   "id": "306f6e90",
   "metadata": {
    "slideshow": {
     "slide_type": "slide"
    }
   },
   "source": [
    "## Chaînes de caractères ($str$)\n",
    "\n",
    "Une chaine de caractères $str$ est un type qui permet de stocker et manipuler du texte. Python supporte le codage UNICODE : https://fr.wikipedia.org/wiki/Unicode\n",
    "\n",
    "Une chaine de caractère est délimitée par les caractères $'$ ou $\"$."
   ]
  },
  {
   "cell_type": "code",
   "execution_count": 26,
   "id": "2258650c",
   "metadata": {
    "slideshow": {
     "slide_type": "-"
    }
   },
   "outputs": [
    {
     "data": {
      "text/plain": [
       "'Hello'"
      ]
     },
     "execution_count": 26,
     "metadata": {},
     "output_type": "execute_result"
    }
   ],
   "source": [
    "'Hello'"
   ]
  },
  {
   "cell_type": "code",
   "execution_count": 27,
   "id": "0db28329",
   "metadata": {
    "slideshow": {
     "slide_type": "-"
    }
   },
   "outputs": [
    {
     "data": {
      "text/plain": [
       "'World'"
      ]
     },
     "execution_count": 27,
     "metadata": {},
     "output_type": "execute_result"
    }
   ],
   "source": [
    "\"World\""
   ]
  },
  {
   "cell_type": "code",
   "execution_count": 3,
   "id": "7664b432",
   "metadata": {
    "slideshow": {
     "slide_type": "slide"
    }
   },
   "outputs": [
    {
     "ename": "SyntaxError",
     "evalue": "invalid syntax (<ipython-input-3-c4e66084aa0c>, line 1)",
     "output_type": "error",
     "traceback": [
      "\u001b[1;36m  File \u001b[1;32m\"<ipython-input-3-c4e66084aa0c>\"\u001b[1;36m, line \u001b[1;32m1\u001b[0m\n\u001b[1;33m    'Aujourd'hui' # Il y a une ambiguité introduite par le mot\u001b[0m\n\u001b[1;37m             ^\u001b[0m\n\u001b[1;31mSyntaxError\u001b[0m\u001b[1;31m:\u001b[0m invalid syntax\n"
     ]
    }
   ],
   "source": [
    "'Aujourd'hui' # Il y a une ambiguité introduite par le mot"
   ]
  },
  {
   "cell_type": "code",
   "execution_count": 4,
   "id": "fb98f845",
   "metadata": {
    "slideshow": {
     "slide_type": "-"
    }
   },
   "outputs": [
    {
     "data": {
      "text/plain": [
       "\"Aujourd'hui\""
      ]
     },
     "execution_count": 4,
     "metadata": {},
     "output_type": "execute_result"
    }
   ],
   "source": [
    "\"Aujourd'hui\" # L'alternance \" et ' permet de lever cette ambiguité"
   ]
  },
  {
   "cell_type": "code",
   "execution_count": 5,
   "id": "edbf1f43",
   "metadata": {
    "slideshow": {
     "slide_type": "-"
    }
   },
   "outputs": [
    {
     "data": {
      "text/plain": [
       "'Aujourd\"hui'"
      ]
     },
     "execution_count": 5,
     "metadata": {},
     "output_type": "execute_result"
    }
   ],
   "source": [
    "'Aujourd\"hui'"
   ]
  },
  {
   "cell_type": "code",
   "execution_count": 31,
   "id": "f139b4a9",
   "metadata": {
    "slideshow": {
     "slide_type": "-"
    }
   },
   "outputs": [
    {
     "data": {
      "text/plain": [
       "\"Aujourd'hui\""
      ]
     },
     "execution_count": 31,
     "metadata": {},
     "output_type": "execute_result"
    }
   ],
   "source": [
    "'Aujourd\\'hui' # On peut utiliser le caractère d'échappement \\"
   ]
  },
  {
   "cell_type": "markdown",
   "id": "e26780d8",
   "metadata": {
    "slideshow": {
     "slide_type": "slide"
    }
   },
   "source": [
    "On peut effecuter des opérations sur les chaines de caractère:"
   ]
  },
  {
   "cell_type": "code",
   "execution_count": 4,
   "id": "0694f01a",
   "metadata": {},
   "outputs": [
    {
     "name": "stdout",
     "output_type": "stream",
     "text": [
      "hello\n"
     ]
    }
   ],
   "source": [
    "'Hello' + 'World!' # La concatenantion avec l'opérateur +\n",
    "print(\"hello\")"
   ]
  },
  {
   "cell_type": "code",
   "execution_count": 34,
   "id": "d728f67d",
   "metadata": {},
   "outputs": [
    {
     "data": {
      "text/plain": [
       "'Hello World!'"
      ]
     },
     "execution_count": 34,
     "metadata": {},
     "output_type": "execute_result"
    }
   ],
   "source": [
    "'Hello' + ' ' +  'World!' # On peut ajouter des espaces"
   ]
  },
  {
   "cell_type": "code",
   "execution_count": 36,
   "id": "3c72469d",
   "metadata": {},
   "outputs": [
    {
     "data": {
      "text/plain": [
       "'Helloooooooooo'"
      ]
     },
     "execution_count": 36,
     "metadata": {},
     "output_type": "execute_result"
    }
   ],
   "source": [
    "'Hell' + 'o'*10 # La répétition d'un caractère avec *"
   ]
  },
  {
   "cell_type": "markdown",
   "id": "19521ffb",
   "metadata": {
    "slideshow": {
     "slide_type": "slide"
    }
   },
   "source": [
    "On peut aussi utiliser des opérateurs de comparaison:"
   ]
  },
  {
   "cell_type": "code",
   "execution_count": 38,
   "id": "145ddb65",
   "metadata": {},
   "outputs": [
    {
     "data": {
      "text/plain": [
       "False"
      ]
     },
     "execution_count": 38,
     "metadata": {},
     "output_type": "execute_result"
    }
   ],
   "source": [
    "\"Hello World\" == \"hello world\" # L'égalité"
   ]
  },
  {
   "cell_type": "code",
   "execution_count": 39,
   "id": "47b20ca1",
   "metadata": {},
   "outputs": [
    {
     "data": {
      "text/plain": [
       "True"
      ]
     },
     "execution_count": 39,
     "metadata": {},
     "output_type": "execute_result"
    }
   ],
   "source": [
    "\"HelloWorld\" != \"Hello World\" # L'inégalité (sensible à la casse!)"
   ]
  },
  {
   "cell_type": "code",
   "execution_count": 41,
   "id": "4c92e9d1",
   "metadata": {},
   "outputs": [
    {
     "data": {
      "text/plain": [
       "True"
      ]
     },
     "execution_count": 41,
     "metadata": {},
     "output_type": "execute_result"
    }
   ],
   "source": [
    "\"a\" < \"b\" # On peut vérifier l'odre lexicographique par rapport à la position des lettres dans la table Unicode"
   ]
  },
  {
   "cell_type": "code",
   "execution_count": 43,
   "id": "7a14a1b7",
   "metadata": {},
   "outputs": [
    {
     "data": {
      "text/plain": [
       "False"
      ]
     },
     "execution_count": 43,
     "metadata": {},
     "output_type": "execute_result"
    }
   ],
   "source": [
    "\"Z\" > \"z\""
   ]
  },
  {
   "cell_type": "markdown",
   "id": "61cd9be4",
   "metadata": {
    "slideshow": {
     "slide_type": "slide"
    }
   },
   "source": [
    "Les chaines de caractères permettent de stocker un ensemble de caractères dans un tableau (nous verrons les tableaux dans la partie *structures de données*). \n",
    "\n",
    "On dispose donc d'opérateurs permettant de connaitre la taille de la chaîne ou de récupérer un caractère spécifique, on une sous-chaine."
   ]
  },
  {
   "cell_type": "code",
   "execution_count": 54,
   "id": "70abb3b7",
   "metadata": {},
   "outputs": [
    {
     "data": {
      "text/plain": [
       "11"
      ]
     },
     "execution_count": 54,
     "metadata": {},
     "output_type": "execute_result"
    }
   ],
   "source": [
    "len(\"Hello World\") # La fonction len($string$) permet de connaitre la taille d'une string."
   ]
  },
  {
   "cell_type": "code",
   "execution_count": 44,
   "id": "506a1ca5",
   "metadata": {},
   "outputs": [
    {
     "data": {
      "text/plain": [
       "'H'"
      ]
     },
     "execution_count": 44,
     "metadata": {},
     "output_type": "execute_result"
    }
   ],
   "source": [
    "\"Hello World\"[0] #On accède ici au premier caractère de la chaine (d'indice 0). "
   ]
  },
  {
   "cell_type": "code",
   "execution_count": 46,
   "id": "0f92a162",
   "metadata": {
    "scrolled": true
   },
   "outputs": [
    {
     "ename": "IndexError",
     "evalue": "string index out of range",
     "output_type": "error",
     "traceback": [
      "\u001b[1;31m---------------------------------------------------------------------------\u001b[0m",
      "\u001b[1;31mIndexError\u001b[0m                                Traceback (most recent call last)",
      "Input \u001b[1;32mIn [46]\u001b[0m, in \u001b[0;36m<cell line: 1>\u001b[1;34m()\u001b[0m\n\u001b[1;32m----> 1\u001b[0m \u001b[38;5;124;43m\"\u001b[39;49m\u001b[38;5;124;43mHello World\u001b[39;49m\u001b[38;5;124;43m\"\u001b[39;49m\u001b[43m[\u001b[49m\u001b[38;5;241;43m100\u001b[39;49m\u001b[43m]\u001b[49m\n",
      "\u001b[1;31mIndexError\u001b[0m: string index out of range"
     ]
    }
   ],
   "source": [
    "\"Hello World\"[100]"
   ]
  },
  {
   "cell_type": "code",
   "execution_count": 47,
   "id": "d3b4988e",
   "metadata": {},
   "outputs": [
    {
     "data": {
      "text/plain": [
       "'Hel'"
      ]
     },
     "execution_count": 47,
     "metadata": {},
     "output_type": "execute_result"
    }
   ],
   "source": [
    "\"Hello World\"[:3] # La sous chaine comprenant les 3 premiers caractères"
   ]
  },
  {
   "cell_type": "code",
   "execution_count": 48,
   "id": "2cff3dd2",
   "metadata": {},
   "outputs": [
    {
     "data": {
      "text/plain": [
       "'Hel'"
      ]
     },
     "execution_count": 48,
     "metadata": {},
     "output_type": "execute_result"
    }
   ],
   "source": [
    "\"Hello World\"[:3] # La sous chaine commençant au 4ème caractères"
   ]
  },
  {
   "cell_type": "markdown",
   "id": "c7583766",
   "metadata": {
    "slideshow": {
     "slide_type": "subslide"
    }
   },
   "source": [
    "Attention: Les chaînes de caractères sont indicées à partir de 0. Le premier caractère a l'indice 0, le deuxième a l'indice 1, etc... \n",
    "\n",
    "**En Python, lorsque l'on sélectionne un sous ensemble d'une chaîne à l'aide de bornes, la borne inférieure est incluse, et la borne supérieure est exclue.**"
   ]
  },
  {
   "cell_type": "code",
   "execution_count": 52,
   "id": "34949284",
   "metadata": {},
   "outputs": [
    {
     "data": {
      "text/plain": [
       "'23'"
      ]
     },
     "execution_count": 52,
     "metadata": {},
     "output_type": "execute_result"
    }
   ],
   "source": [
    "\"12345\"[1:3]"
   ]
  },
  {
   "cell_type": "code",
   "execution_count": 53,
   "id": "e1ac1068",
   "metadata": {},
   "outputs": [
    {
     "data": {
      "text/plain": [
       "'1234'"
      ]
     },
     "execution_count": 53,
     "metadata": {},
     "output_type": "execute_result"
    }
   ],
   "source": [
    "\"12345\"[0:4]"
   ]
  },
  {
   "cell_type": "markdown",
   "id": "943991bb",
   "metadata": {
    "slideshow": {
     "slide_type": "slide"
    }
   },
   "source": [
    "# Les méthodes des chaines de caractères\n",
    "\n",
    "Les $string$ possèdent un ensemble de **méthodes** (nous reverrons cette notion au second semestre). \n",
    "\n",
    "Ces **méthodes** sont des opérations spécifiques à la chaine de caractère. Pour appeler une **méthode**, on utilise l'opérateur *.* . La méthode exécute alors une opération et nous **retourne** une valeur. On peut retrouver la liste des méthodes dans la documentation Python : https://docs.python.org/3/library/stdtypes.html#string-methods\n",
    "\n",
    "On peut par exemple passer la chaine de la majuscule à la minuscule."
   ]
  },
  {
   "cell_type": "code",
   "execution_count": 5,
   "id": "412e3e2a",
   "metadata": {},
   "outputs": [
    {
     "data": {
      "text/plain": [
       "'HELLO'"
      ]
     },
     "execution_count": 5,
     "metadata": {},
     "output_type": "execute_result"
    }
   ],
   "source": [
    "\"hello\".upper() # Ici, l'execution de .upper() sur la chaine \"hello\" retourne \"HELLO\""
   ]
  },
  {
   "cell_type": "code",
   "execution_count": 56,
   "id": "10086662",
   "metadata": {},
   "outputs": [
    {
     "data": {
      "text/plain": [
       "'hello'"
      ]
     },
     "execution_count": 56,
     "metadata": {},
     "output_type": "execute_result"
    }
   ],
   "source": [
    "\"hello\".lower()"
   ]
  },
  {
   "cell_type": "markdown",
   "id": "3abbfc69",
   "metadata": {
    "slideshow": {
     "slide_type": "slide"
    }
   },
   "source": [
    "# Les variables\n",
    "\n",
    "On a vu que l'on peut calculer différentes **expressions**, composées de **valeurs** et d'**opérateurs** et effectuer des opération logiques sur leur contenu. Pour pouvoir stocker et manipuler ces valeurs, on utilise des **variables**.\n",
    "\n",
    "Une **variable** est un nom qui fait **référence** à une valeur. \n",
    "\n",
    "Pour affecter une variable à une valeur, on utilise l'instruction **d'affectation**. Une instruction d'affectation se compose d'une variable, d'un signe égal ($=$) et d'une expression."
   ]
  },
  {
   "cell_type": "code",
   "execution_count": 68,
   "id": "30104b20",
   "metadata": {},
   "outputs": [],
   "source": [
    "mon_message = 10 # On stocke dans la variable mon_message la valeure 10"
   ]
  },
  {
   "cell_type": "markdown",
   "id": "ee986872",
   "metadata": {},
   "source": [
    "Je peux maintenant utiliser la variable ***mon_message*** pour effectuer des opérations."
   ]
  },
  {
   "cell_type": "code",
   "execution_count": 71,
   "id": "4f1e762c",
   "metadata": {},
   "outputs": [
    {
     "data": {
      "text/plain": [
       "20"
      ]
     },
     "execution_count": 71,
     "metadata": {},
     "output_type": "execute_result"
    }
   ],
   "source": [
    "mon_message + 10 # Ici, j'affiche le résultat de l'opération, je ne change pas la valeure de la variable"
   ]
  },
  {
   "cell_type": "code",
   "execution_count": 72,
   "id": "628a0fa7",
   "metadata": {},
   "outputs": [],
   "source": [
    "mon_meessage = mon_message + 10 # Ici, je modifie la valeure de ma variable"
   ]
  },
  {
   "cell_type": "markdown",
   "id": "cf194b96",
   "metadata": {},
   "source": [
    "Une variable ne fait référence qu'à une seule valeur à la fois. Dès que nous utilisons une instruction d'affectation pour qu'une variable se réfère à une autre valeur, elle ne se réfère plus à l'ancienne valeur. Nous pouvons avoir autant de variables que nous le souhaitons."
   ]
  },
  {
   "cell_type": "markdown",
   "id": "e9e81030",
   "metadata": {
    "slideshow": {
     "slide_type": "slide"
    }
   },
   "source": [
    "# ⚠️Bonne pratique\n",
    "\n",
    "Bien que l'on puisse nommer ses variables comme on le souhaite, il convient de respecter des conventions de codage\n",
    "* Le style recommandé pour nommer les variables et les fonctions en Python est appelé **snake_case**.\n",
    "* Les noms de variables **ma_variable**, c'est à dire en minuscule avec un caractère \"souligné\" (underscore en anglais) pour séparer les différents \"mots\" dans le nom.\n",
    "* Les noms de constantes sont écrites en majuscule. Ex: MA_CONSTANTE, PI,...\n",
    "* Le nom de la variable **doit faire sens avec son utilisation**. Évitez autant que possible les $a1$, $a2$, $i$, $truc$, $toto$... sauf si le problème en fait explicitement mention (par exemple, pour un problème mathématique)"
   ]
  },
  {
   "cell_type": "markdown",
   "id": "9910e51d",
   "metadata": {
    "slideshow": {
     "slide_type": "subslide"
    }
   },
   "source": [
    "Même si les variables sont bien nommées, l'utilisation de commentaires est toujours recommandée pour éviter les ambiguité."
   ]
  },
  {
   "cell_type": "code",
   "execution_count": 74,
   "id": "2645465e",
   "metadata": {
    "scrolled": true
   },
   "outputs": [
    {
     "name": "stdout",
     "output_type": "stream",
     "text": [
      "9.600000000000001\n"
     ]
    }
   ],
   "source": [
    "prix_initial = 12 # Le prix de mon produit\n",
    "pourcentage_reduction = 20 # Le montant de la réduction en %\n",
    "prix_final = 12 * ((100-pourcentage_reduction)/100) # J'applique la réduction\n",
    "print(prix_final) # J'affiche le résultat"
   ]
  },
  {
   "cell_type": "markdown",
   "id": "47cbd4a1",
   "metadata": {
    "slideshow": {
     "slide_type": "slide"
    }
   },
   "source": [
    "# Typage dynamique\n",
    "En Python, on ne déclare pas le type de la variable avant de s'en servir. C'est ce que l'on appel du typage dynamique, le type de la variable est déterminé en fonction du résultat de l'évaluation de l'expression.\n",
    "\n",
    "Pour connaitre le type d'une variable, on peut utiliser la fonction $type(ma_variable)$."
   ]
  },
  {
   "cell_type": "code",
   "execution_count": 75,
   "id": "b7d65cb9",
   "metadata": {},
   "outputs": [
    {
     "data": {
      "text/plain": [
       "str"
      ]
     },
     "execution_count": 75,
     "metadata": {},
     "output_type": "execute_result"
    }
   ],
   "source": [
    "mon_message = \"Hello World\" # Je déclare une string, qui contient le message \"Hello World\"\n",
    "type(mon_message) # Mon type est str"
   ]
  },
  {
   "cell_type": "code",
   "execution_count": 76,
   "id": "2cc529c1",
   "metadata": {},
   "outputs": [
    {
     "data": {
      "text/plain": [
       "int"
      ]
     },
     "execution_count": 76,
     "metadata": {},
     "output_type": "execute_result"
    }
   ],
   "source": [
    "mon_message = 10 # J'utilise le même nom de variable pour stocker un entier\n",
    "type(mon_message) # C'est maintenant un entier."
   ]
  },
  {
   "cell_type": "markdown",
   "id": "6a04645a",
   "metadata": {},
   "source": [
    "⚠️ Il est donc possible qu'une variable change de type! Il faudra donc faire attention à bien vérifier son type pour éviter les erreurs. "
   ]
  },
  {
   "cell_type": "markdown",
   "id": "1b766a75",
   "metadata": {
    "slideshow": {
     "slide_type": "slide"
    }
   },
   "source": [
    "# ✔️Concept check\n",
    "Quel est le résultat de l'exécution du code suivant:"
   ]
  },
  {
   "cell_type": "code",
   "execution_count": null,
   "id": "c5e3a5e2",
   "metadata": {},
   "outputs": [],
   "source": [
    "x = 37\n",
    "y = x + 2\n",
    "x = 20\n",
    "y = x + 2.0\n",
    "y"
   ]
  },
  {
   "cell_type": "markdown",
   "id": "4daa75db",
   "metadata": {},
   "source": [
    "De quel type est la variable $y$?"
   ]
  },
  {
   "cell_type": "markdown",
   "id": "10370279",
   "metadata": {
    "slideshow": {
     "slide_type": "slide"
    }
   },
   "source": [
    "# Saisie et Affichage\n",
    "\n",
    "Pour écrire un programme interactif, il est nécessaire de pouvoir lire des saisies de l'utilisateur et d'afficher des messages. Dans la console et dans le notebook, on peut utiliser deux fonctions dédiées:\n",
    "* **input()**, qui permet de récupérer une saisie clavier (l'utilisateur valide sa saisie avec la touche entrée). **input()** nous retourne toujours une chaine de caractères.\n",
    "* **print(str)**, qui affiche le contenu d'une chaine de caractère dans la console. "
   ]
  },
  {
   "cell_type": "code",
   "execution_count": 77,
   "id": "49adbfe2",
   "metadata": {},
   "outputs": [
    {
     "name": "stdout",
     "output_type": "stream",
     "text": [
      "hellow\n",
      "hellow\n"
     ]
    }
   ],
   "source": [
    "print(input())"
   ]
  },
  {
   "cell_type": "code",
   "execution_count": 78,
   "id": "b967025d",
   "metadata": {
    "scrolled": true
   },
   "outputs": [
    {
     "name": "stdout",
     "output_type": "stream",
     "text": [
      "Hello\n",
      "Hello\n",
      "Hello ! \n"
     ]
    }
   ],
   "source": [
    "ma_variable = input()\n",
    "print(ma_variable)\n",
    "ma_variable = ma_variable + \" ! \"\n",
    "print(ma_variable)"
   ]
  },
  {
   "cell_type": "markdown",
   "id": "820f615b",
   "metadata": {
    "slideshow": {
     "slide_type": "slide"
    }
   },
   "source": [
    "# ⚠️Bonne pratique\n",
    "\n",
    "**On ne fait jamais de saisie à l'aveugle!** On affiche toujours un message à l'utilisateur pour spécifier ce que l'on désire.\n",
    "\n",
    "De même, il faudra toujours vérifier que la saisie de l'utilisateur correspond à ce que l'on attend, sinon, attention aux erreurs."
   ]
  },
  {
   "cell_type": "markdown",
   "id": "e66883ae",
   "metadata": {
    "slideshow": {
     "slide_type": "slide"
    }
   },
   "source": [
    "# Conversion entre types\n",
    "\n",
    "Regardons le résultat du code suivant:"
   ]
  },
  {
   "cell_type": "code",
   "execution_count": 79,
   "id": "b8dff2fd",
   "metadata": {},
   "outputs": [
    {
     "name": "stdout",
     "output_type": "stream",
     "text": [
      "54\n"
     ]
    },
    {
     "ename": "TypeError",
     "evalue": "can only concatenate str (not \"int\") to str",
     "output_type": "error",
     "traceback": [
      "\u001b[1;31m---------------------------------------------------------------------------\u001b[0m",
      "\u001b[1;31mTypeError\u001b[0m                                 Traceback (most recent call last)",
      "Input \u001b[1;32mIn [79]\u001b[0m, in \u001b[0;36m<cell line: 2>\u001b[1;34m()\u001b[0m\n\u001b[0;32m      1\u001b[0m val \u001b[38;5;241m=\u001b[39m \u001b[38;5;28minput\u001b[39m()\n\u001b[1;32m----> 2\u001b[0m \u001b[43mval\u001b[49m\u001b[43m \u001b[49m\u001b[38;5;241;43m+\u001b[39;49m\u001b[43m \u001b[49m\u001b[38;5;241;43m5\u001b[39;49m\n",
      "\u001b[1;31mTypeError\u001b[0m: can only concatenate str (not \"int\") to str"
     ]
    }
   ],
   "source": [
    "print(\"Saisissez votre valeur:\")\n",
    "val = input()\n",
    "val + 5"
   ]
  },
  {
   "cell_type": "markdown",
   "id": "8eab3c14",
   "metadata": {},
   "source": [
    "L'utilisateur a saisi \"54\", qui est lu sous la forme d'une chaine de caractères. Puis il essaie d'ajouter la valeur 5 à la chaine de caractères. Il obtient une erreur de Type : TypeError: can only concatenate str (not \"int\") to str"
   ]
  },
  {
   "cell_type": "markdown",
   "id": "2c96a707",
   "metadata": {
    "slideshow": {
     "slide_type": "slide"
    }
   },
   "source": [
    "Pour ne pas avoir cette erreur, il faut que $val$ soit de type $int$.\n",
    "\n",
    "Pour cela, on peut spécifier le type de la variable que l'on veut, grâce à une opération de conversion appelée \"cast\"."
   ]
  },
  {
   "cell_type": "code",
   "execution_count": null,
   "id": "480ae6b1",
   "metadata": {},
   "outputs": [],
   "source": [
    "print(\"Saisissez votre valeur:\")\n",
    "val = int(input()) # On récupère ici un entier\n",
    "print(\"Saisissez votre nouvelle valeur:\")\n",
    "val = float(input()) # On récupère ici un flottant."
   ]
  },
  {
   "cell_type": "markdown",
   "id": "a66280bf",
   "metadata": {
    "slideshow": {
     "slide_type": "slide"
    }
   },
   "source": [
    "# Formater l'affichage\n",
    "\n",
    "Depuis Python 3.6, f-strings (PEP 498) permet d’insérer des expressions dans des chaines de caractères en utilisant une syntaxe minimale. Ces expressions servent à insérer des variables dans les chaines de caractères et de les mettre en forme.\n",
    "\n",
    "https://docs.python.org/3/reference/lexical_analysis.html#f-strings\n",
    "\n",
    "Cela permet de contrôler la manière dont le texte est affiché."
   ]
  },
  {
   "cell_type": "code",
   "execution_count": 81,
   "id": "0f4f9b8f",
   "metadata": {},
   "outputs": [
    {
     "name": "stdout",
     "output_type": "stream",
     "text": [
      "Le nom de l'utilisateur est Fred.\n"
     ]
    }
   ],
   "source": [
    "name = \"Fred\"\n",
    "print(f\"Le nom de l'utilisateur est {name}.\")"
   ]
  },
  {
   "cell_type": "markdown",
   "id": "7104c135",
   "metadata": {},
   "source": [
    "Cette opération est aussi possible en utilisant ma méthode .format() des chaines de caractère:\n",
    "\n",
    "https://docs.python.org/3/library/string.html#formatstrings"
   ]
  },
  {
   "cell_type": "code",
   "execution_count": 90,
   "id": "065043fa",
   "metadata": {},
   "outputs": [
    {
     "name": "stdout",
     "output_type": "stream",
     "text": [
      "3.14\n"
     ]
    }
   ],
   "source": [
    "PI = 3.14159265359\n",
    "print (\"{:.2f}\".format(PI)) # On veut afficher PI en respectant le format .2f, c'est à dire avec 2 décimales"
   ]
  },
  {
   "cell_type": "markdown",
   "id": "6bcb6039",
   "metadata": {},
   "source": [
    "⚠️Prendre le temps de lire la documentation Python"
   ]
  },
  {
   "cell_type": "markdown",
   "id": "b9353164",
   "metadata": {
    "slideshow": {
     "slide_type": "slide"
    }
   },
   "source": [
    "# En conclusion\n",
    "\n",
    "On a vu: \n",
    "* ✔️ Les commentaires #\n",
    "* ✔️ Les valeurs et les expressions\n",
    "* ✔️ Les types $int$, $float$, $bool$, $str$\n",
    "* ✔️ Les opérateurs sur le types\n",
    "* ✔️ Les variables et le typage dynamique\n",
    "* ✔️ La saisie et l'affichage\n",
    "* ✔️ Le formatage des chaines de caractères\n",
    "\n",
    "Je suis donc capable:\n",
    "* A partir d'un problème donné, de produire un algoritme agençant ces éléments pour répondre à une question.\n",
    "\n",
    "⏭️[Les structures de contrôle](102_Les_structures_de_controle.ipynb)"
   ]
  }
 ],
 "metadata": {
  "celltoolbar": "Diaporama",
  "kernelspec": {
   "display_name": "Python 3 (ipykernel)",
   "language": "python",
   "name": "python3"
  },
  "language_info": {
   "codemirror_mode": {
    "name": "ipython",
    "version": 3
   },
   "file_extension": ".py",
   "mimetype": "text/x-python",
   "name": "python",
   "nbconvert_exporter": "python",
   "pygments_lexer": "ipython3",
   "version": "3.9.7"
  }
 },
 "nbformat": 4,
 "nbformat_minor": 5
}
